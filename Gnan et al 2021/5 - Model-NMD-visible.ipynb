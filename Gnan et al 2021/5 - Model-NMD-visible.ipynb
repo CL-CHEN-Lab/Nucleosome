{
 "cells": [
  {
   "cell_type": "code",
   "execution_count": 1,
   "metadata": {},
   "outputs": [],
   "source": [
    "import pandas as pd\n",
    "import numpy as np\n",
    "import matplotlib.pyplot as plt\n",
    "from sklearn.linear_model import LinearRegression\n",
    "import seaborn as sns\n",
    "from sklearn.model_selection import train_test_split\n",
    "import statsmodels.api as sm\n",
    "from scipy import stats\n",
    "import matplotlib as mpl\n",
    "import itertools"
   ]
  },
  {
   "cell_type": "code",
   "execution_count": 2,
   "metadata": {},
   "outputs": [],
   "source": [
    "#load introns and divide by sense\n",
    "\n",
    "Introns=pd.read_csv('/Volumes/Storage3/Paramecium.FromChunlong/Data/NMD/20140122.Intron.Count.WTandNMD.Mac51.Validated.tab',sep='\\t')\n",
    "\n",
    "Introns=Introns.query('(Scaffold < 167 or Scaffold==556 ) and WT_Spl > WT_Ret+WT_AS and PTC_inducing==\"visible\"')\n",
    "del Introns['Gene_ID']\n",
    "Introns_neg=Introns.query(\"Sense==-1\")\n",
    "Introns_pos=Introns.query(\"Sense==1\")"
   ]
  },
  {
   "cell_type": "code",
   "execution_count": 3,
   "metadata": {},
   "outputs": [],
   "source": [
    "# load new exons annotation and divide by sense\n",
    "exons=pd.read_csv('/Users/sgnan/Desktop/paramecium/Genes/ptetraurelia_mac_51_annotation_v2.0.gff3',sep='\\t',skiprows=2,names=['Scaffold','EuGene','feature','Exon_start_Mac51','Exon_end_Mac51','dot','strand','value','Info']).query('feature==\"exon\"')\n",
    "exons=exons.assign(\n",
    "    Scaffold=exons.Scaffold.apply(lambda x: x.split('_')[1]).astype(int),\n",
    "    Gene_ID=exons.Info.apply(lambda x: x.split('ID=')[1]).apply(lambda x: x.split(':')[0]),\n",
    "    Sense=exons.strand.apply(lambda x: -1 if x =='-' else 1)\n",
    "\n",
    ").query('Scaffold < 167  or Scaffold==556').filter(['Scaffold','Exon_start_Mac51','Exon_end_Mac51','Sense','Gene_ID'])\n",
    "\n",
    "Exons_neg=exons.query(\"Sense==-1\").filter(['Scaffold','Exon_start_Mac51','Exon_end_Mac51','Gene_ID','Sense'])\n",
    "Exons_pos=exons.query(\"Sense==1\").filter(['Scaffold','Exon_start_Mac51','Exon_end_Mac51','Gene_ID','Sense'])"
   ]
  },
  {
   "cell_type": "code",
   "execution_count": 4,
   "metadata": {},
   "outputs": [],
   "source": [
    "# attach preovious and following exon to each intron\n",
    "Introns_neg=Introns_neg.merge(Exons_neg.assign(Intron_start_Mac51=Exons_neg.Exon_end_Mac51+1), how='inner',on=['Scaffold','Intron_start_Mac51','Sense']).rename(columns={\"Exon_start_Mac51\":\"nextExon_start_Mac51\",\n",
    "                                                                                      \"Exon_end_Mac51\":\"nextExon_end_Mac51\"\n",
    "                                                                                     }\n",
    ").merge(Exons_neg.assign(Intron_stop_Mac51=Exons_neg.Exon_start_Mac51-1), how='inner',on=['Scaffold','Gene_ID','Intron_stop_Mac51','Sense']).rename(columns={\"Exon_start_Mac51\":\"prevExon_start_Mac51\",\n",
    "                                                                                      \"Exon_end_Mac51\":\"prevExon_end_Mac51\"\n",
    "                                                                                     })\n",
    "\n",
    "Introns_pos=Introns_pos.merge(Exons_pos.assign(Intron_stop_Mac51=Exons_pos.Exon_start_Mac51-1), how='inner',on=['Scaffold','Intron_stop_Mac51','Sense']).rename(columns={\"Exon_start_Mac51\":\"nextExon_start_Mac51\",\n",
    "                                                                                      \"Exon_end_Mac51\":\"nextExon_end_Mac51\"\n",
    "                                                                                     }\n",
    ").merge(Exons_pos.assign(Intron_start_Mac51=Exons_pos.Exon_end_Mac51+1), how='inner',on=['Scaffold','Gene_ID','Intron_start_Mac51','Sense']).rename(columns={\"Exon_start_Mac51\":\"prevExon_start_Mac51\",\n",
    "                                                                                      \"Exon_end_Mac51\":\"prevExon_end_Mac51\"\n",
    "                                                                                     })\n",
    "\n"
   ]
  },
  {
   "cell_type": "code",
   "execution_count": 5,
   "metadata": {},
   "outputs": [],
   "source": [
    "# concatenate introns\n",
    "Introns_info=pd.concat([Introns_neg,Introns_pos],axis=0)"
   ]
  },
  {
   "cell_type": "code",
   "execution_count": 6,
   "metadata": {},
   "outputs": [
    {
     "data": {
      "text/plain": [
       "98.83050136354102"
      ]
     },
     "execution_count": 6,
     "metadata": {},
     "output_type": "execute_result"
    }
   ],
   "source": [
    "100*(Introns_info.shape[0])/Introns.shape[0]"
   ]
  },
  {
   "cell_type": "code",
   "execution_count": 7,
   "metadata": {},
   "outputs": [],
   "source": [
    "# tanscrip info\n",
    "Transcript=exons.groupby(['Gene_ID']).agg({'Exon_start_Mac51':'min','Exon_end_Mac51':'max'})\n",
    "Transcript=Transcript.reset_index().rename(columns={'Exon_start_Mac51':'Transcript_start_Mac51','Exon_end_Mac51':'Transcript_end_Mac51'})\n",
    "Transcript=Transcript.assign(\n",
    "Transcript_size=Transcript.Transcript_end_Mac51.values-Transcript.Transcript_start_Mac51.values\n",
    ")"
   ]
  },
  {
   "cell_type": "code",
   "execution_count": 8,
   "metadata": {},
   "outputs": [],
   "source": [
    "Introns_info=Introns_info.merge(Transcript)"
   ]
  },
  {
   "cell_type": "code",
   "execution_count": 9,
   "metadata": {},
   "outputs": [],
   "source": [
    "#load peaks and add center\n",
    "Peaks=pd.read_csv('/Users/sgnan/Desktop/paramecium/common_Nucleosome_peaks.bed',sep='\\t',names=['Scaffold','start','end'])\n",
    "Peaks['center']=(Peaks.start.values+Peaks.end.values)/2\n",
    "#prepare genes to calculate distance form center\n",
    "Introns_info=Introns_info.assign(\n",
    "    center=(Introns_info.Intron_start_Mac51.values+Introns_info.Intron_stop_Mac51.values)/2,\n",
    "    width=1+Introns_info.Intron_stop_Mac51.values-Introns_info.Intron_start_Mac51.values,\n",
    "    distance_center=np.nan,\n",
    "    density=np.nan)"
   ]
  },
  {
   "cell_type": "code",
   "execution_count": 10,
   "metadata": {},
   "outputs": [],
   "source": [
    "#calculate distance from the center of the closest nucleosome\n",
    "Scaffold_list2=np.unique(Peaks.Scaffold.values)\n",
    "for scaffold in Scaffold_list2:\n",
    "    Introns_info[Introns_info.Scaffold==scaffold]=Introns_info[Introns_info.Scaffold==scaffold].assign(\n",
    "        distance_center=np.asarray(np.min(abs(np.matrix(Introns_info.query('Scaffold=='+str(scaffold)).center.values)-np.matrix(Peaks.query('Scaffold=='+str(scaffold)).center.values).T),axis=0))[0],\n",
    "        density=np.array(np.abs(np.diff(np.sort(abs(np.matrix(Introns_info.query('Scaffold=='+str(scaffold)).center.values)-np.matrix(Peaks.query('Scaffold=='+str(scaffold)).center.values).T),axis=0)[0:2,:],axis=0)))[0]\n",
    "    )\n"
   ]
  },
  {
   "cell_type": "code",
   "execution_count": null,
   "metadata": {},
   "outputs": [],
   "source": []
  },
  {
   "cell_type": "code",
   "execution_count": 11,
   "metadata": {},
   "outputs": [],
   "source": [
    "# drop missing values\n",
    "Introns_info=Introns_info.dropna()\n",
    "# select features\n",
    "Introns_info=Introns_info[['Sense','Strong_donor','Strong_acceptor','Gene_ID','Scaffold','Intron_start_Mac51','Intron_stop_Mac51','WT_Spl','WT_Ret','WT_AS','NMD_Spl', 'NMD_Ret', 'NMD_AS','RPKM_WT','distance_center','nextExon_end_Mac51','nextExon_start_Mac51','prevExon_end_Mac51','prevExon_start_Mac51','Intron_position','Transcript_size','Transcript_start_Mac51','Transcript_end_Mac51','density']].reset_index(drop=True)\n",
    "# convert features into integers\n",
    "Introns_info[['nextExon_end_Mac51','nextExon_start_Mac51','prevExon_end_Mac51','prevExon_start_Mac51','Transcript_start_Mac51','Transcript_end_Mac51']]=Introns_info[['nextExon_end_Mac51','nextExon_start_Mac51','prevExon_end_Mac51','prevExon_start_Mac51','Transcript_start_Mac51','Transcript_end_Mac51']].astype(int)\n"
   ]
  },
  {
   "cell_type": "code",
   "execution_count": 12,
   "metadata": {},
   "outputs": [],
   "source": [
    "# load genome sequece\n",
    "fasta_dir='/Volumes/Storage3/Paramecium.FromChunlong/Data/Genome/mac_51/Scaffold/'\n",
    "sequences=dict()\n",
    "fasta_files=['20120207.scaffold51_'+str(i)+'.fa' for i in list(range(1,167))+[556]]\n",
    "for i in list(range(1,167))+[556]:\n",
    "    f = open(fasta_dir+'20120207.scaffold51_'+str(i)+'.fa','r')\n",
    "    lines=f.readlines()[1:]\n",
    "    f.close()\n",
    "    sequences[i]=''.join([l.strip('\\n') for l in lines])"
   ]
  },
  {
   "cell_type": "code",
   "execution_count": 13,
   "metadata": {},
   "outputs": [],
   "source": [
    "# calculate GC content of the intron of interest\n",
    "def GCcontent(sequences,Introns_info,i):\n",
    "    intron=sequences[Introns_info.Scaffold.iloc[i]][(Introns_info.Intron_start_Mac51.iloc[i]+1):Introns_info.Intron_stop_Mac51.iloc[i]-2]\n",
    "    GC=100*(intron.count('C')+intron.count('G'))/len(intron)\n",
    "    return GC\n",
    "\n",
    "# calculate GC content of the previous exon\n",
    "def GCcontent_prev_ex(sequences,Introns_info,i):\n",
    "    intron=sequences[Introns_info.Scaffold.iloc[i]][(Introns_info.prevExon_start_Mac51.iloc[i]-1):Introns_info.prevExon_end_Mac51.iloc[i]]\n",
    "    GC=100*(intron.count('C')+intron.count('G'))/len(intron)\n",
    "    return GC\n",
    "\n",
    "# calculate GC content of the following exon\n",
    "def GCcontent_next_ex(sequences,Introns_info,i):\n",
    "    intron=sequences[Introns_info.Scaffold.iloc[i]][(Introns_info.nextExon_start_Mac51.iloc[i]-1):Introns_info.nextExon_end_Mac51.iloc[i]]\n",
    "    GC=100*(intron.count('C')+intron.count('G'))/len(intron)\n",
    "    return GC\n",
    "\n",
    "# calculate GC content of the transcriptional unit\n",
    "def GCcontent_Transcrip(sequences,Introns_info,i):\n",
    "    intron=sequences[Introns_info.Scaffold.iloc[i]][(Introns_info.Transcript_start_Mac51.iloc[i]-1):Introns_info.Transcript_end_Mac51.iloc[i]]\n",
    "    GC=100*(intron.count('C')+intron.count('G'))/len(intron)\n",
    "    return GC\n",
    "\n",
    "Introns_info=Introns_info.assign(\n",
    "GC=[GCcontent(sequences,Introns_info,i) for i in range(len(Introns_info.index))],\n",
    "GC_nextExon=[GCcontent_next_ex(sequences,Introns_info,i) for i in range(len(Introns_info.index))],\n",
    "GC_prevExon=[GCcontent_prev_ex(sequences,Introns_info,i) for i in range(len(Introns_info.index))],\n",
    "GC_Transcrip=[GCcontent_Transcrip(sequences,Introns_info,i) for i in range(len(Introns_info.index))]\n",
    ")"
   ]
  },
  {
   "cell_type": "code",
   "execution_count": 14,
   "metadata": {},
   "outputs": [],
   "source": [
    "# calculate sizes of enxons\n",
    "Introns_info['nextExon_Size']=1+Introns_info.nextExon_end_Mac51-Introns_info.nextExon_start_Mac51\n",
    "Introns_info['prevExon_Size']=1+Introns_info.prevExon_end_Mac51-Introns_info.prevExon_start_Mac51\n"
   ]
  },
  {
   "cell_type": "code",
   "execution_count": 15,
   "metadata": {},
   "outputs": [],
   "source": [
    "#load nucleosome scores\n",
    "data={\n",
    "'D1':np.load('/Users/sgnan/Desktop/paramecium/tracks/D1_nucleosome_score.npy',allow_pickle='TRUE').item(),\n",
    "'D2': np.load('/Users/sgnan/Desktop/paramecium/tracks/D2_nucleosome_score.npy',allow_pickle='TRUE').item(),\n",
    "'S41': np.load('/Users/sgnan/Desktop/paramecium/tracks/S41_nucleosome_score.npy',allow_pickle='TRUE').item(),\n",
    "'S32new': np.load('/Users/sgnan/Desktop/paramecium/tracks/S32new_nucleosome_score.npy',allow_pickle='TRUE').item()\n",
    "}"
   ]
  },
  {
   "cell_type": "code",
   "execution_count": 16,
   "metadata": {},
   "outputs": [],
   "source": [
    "# Average and correct normalise control\n",
    "data['D']={scaffold:0.01+(data['D1'][scaffold]+data['D2'][scaffold])/2 for scaffold in data['D1'].keys()}\n",
    "data['S']={scaffold:0.01+(data['S41'][scaffold]+data['S32new'][scaffold])/2 for scaffold in data['S32new'].keys()}\n",
    "\n",
    "data['Norm']={scaffold:(data['S'][scaffold]/data['D'][scaffold]) for scaffold in data['S'].keys()}\n",
    "# set nan and Inf to zero\n",
    "for scaffold in data['Norm'].keys():\n",
    "    data['Norm'][scaffold][np.isfinite(data['Norm'][scaffold])==False]=0"
   ]
  },
  {
   "cell_type": "code",
   "execution_count": 17,
   "metadata": {},
   "outputs": [],
   "source": [
    "# calculate median nucleosome score over introns\n",
    "def MNasesignal(sample_Track,Introns_info,i):\n",
    "    intron=np.median(sample_Track[Introns_info.Scaffold.iloc[i]][(Introns_info.Intron_start_Mac51.iloc[i]):Introns_info.Intron_stop_Mac51.iloc[i]+1])\n",
    "    return intron\n",
    "# calculate median nucleosome score over following exon\n",
    "def MNasesignal_next(sample_Track,Introns_info,i):\n",
    "    intron=np.median(sample_Track[Introns_info.Scaffold.iloc[i]][(Introns_info.nextExon_start_Mac51.iloc[i]):Introns_info.nextExon_end_Mac51.iloc[i]+1])\n",
    "    return intron\n",
    "# calculate median nucleosome score over previous exon\n",
    "def MNasesignal_prev(sample_Track,Introns_info,i):\n",
    "    intron=np.median(sample_Track[Introns_info.Scaffold.iloc[i]][(Introns_info.prevExon_start_Mac51.iloc[i]):Introns_info.prevExon_end_Mac51.iloc[i]+1])\n",
    "    return intron\n",
    "\n",
    "Introns_info=Introns_info.assign(\n",
    "MNase=[MNasesignal(data['Norm'],Introns_info,i) for i in range(len(Introns_info.index))],\n",
    "MNase_nextExon=[MNasesignal_next(data['Norm'],Introns_info,i) for i in range(len(Introns_info.index))],\n",
    "MNase_prevExon=[MNasesignal_prev(data['Norm'],Introns_info,i) for i in range(len(Introns_info.index))]\n",
    ")"
   ]
  },
  {
   "cell_type": "code",
   "execution_count": 18,
   "metadata": {},
   "outputs": [],
   "source": [
    "#calculate splicing efficiency and length of introns\n",
    "Introns_info=Introns_info.assign(\n",
    "Splice_eff_WT= (Introns_info.WT_Spl)/(Introns_info.WT_Spl+Introns_info.WT_Ret+Introns_info.WT_AS),\n",
    "Splice_eff_NMD= (Introns_info.NMD_Spl)/(Introns_info.NMD_Spl+Introns_info.NMD_Ret+Introns_info.NMD_AS),\n",
    "len_intron= 1+Introns_info.Intron_stop_Mac51-Introns_info.Intron_start_Mac51\n",
    ").dropna()\n",
    "\n",
    "#calculate n of introns in a transcript\n",
    "Introns_info['Count'] =np.array(Introns_info.groupby('Gene_ID')['Gene_ID'].transform('count'))"
   ]
  },
  {
   "cell_type": "code",
   "execution_count": 19,
   "metadata": {
    "scrolled": true
   },
   "outputs": [],
   "source": [
    "# save to file \n",
    "Introns_info.to_csv('Gene_info_from_Model.tsv',sep='\\t',index=False)\n",
    "\n",
    "#function that applies a transformation and standardizes data\n",
    "def norm_data_apply_function(x,FUN='A'):\n",
    "    if FUN!='A':\n",
    "        y=FUN(x)\n",
    "    else:\n",
    "        y=x\n",
    "    y=(y-np.mean(y))/np.std(y)\n",
    "    return(y)\n",
    "\n",
    "Introns_info=Introns_info.assign(\n",
    "    \n",
    "#splicing efficiency\n",
    "Splice_eff_WT=norm_data_apply_function(Introns_info.Splice_eff_WT,np.exp), \n",
    "Splice_eff_NMD=norm_data_apply_function(Introns_info.Splice_eff_NMD,np.exp), \n",
    "\n",
    "#RPKM\n",
    "RPKM_WT=norm_data_apply_function(Introns_info.RPKM_WT,np.log10),\n",
    "\n",
    "#local density\n",
    "density=norm_data_apply_function(Introns_info.density),\n",
    "\n",
    "#distance from center \n",
    "distance_center=norm_data_apply_function(Introns_info.distance_center),\n",
    "\n",
    "    \n",
    "#GC\n",
    "GC=norm_data_apply_function(Introns_info.GC),\n",
    "GC_nextExon=norm_data_apply_function(Introns_info.GC_nextExon),\n",
    "GC_prevExon=norm_data_apply_function(Introns_info.GC_prevExon),\n",
    "GC_Transcrip=norm_data_apply_function(Introns_info.GC_Transcrip),  \n",
    "\n",
    "\n",
    "#MNase\n",
    "MNase=norm_data_apply_function(Introns_info.MNase),\n",
    "MNase_nextExon=norm_data_apply_function(Introns_info.MNase_nextExon),\n",
    "MNase_prevExon=norm_data_apply_function(Introns_info.MNase_prevExon),\n",
    "    \n",
    "#size\n",
    "Transcript_size=norm_data_apply_function(Introns_info.Transcript_size),\n",
    "len_intron=norm_data_apply_function(Introns_info.len_intron),\n",
    "nextExon_Size=norm_data_apply_function(Introns_info.nextExon_Size),\n",
    "prevExon_Size=norm_data_apply_function(Introns_info.prevExon_Size),\n",
    "    \n",
    "#introns prop\n",
    "Count=norm_data_apply_function(Introns_info.Count),\n",
    "    \n",
    "Intron_position=norm_data_apply_function(Introns_info.Intron_position)\n",
    ")\n"
   ]
  },
  {
   "cell_type": "code",
   "execution_count": 20,
   "metadata": {},
   "outputs": [],
   "source": [
    "List_par=[ 'RPKM_WT','distance_center','Intron_position','Transcript_size','GC', 'GC_nextExon','nextExon_Size',\n",
    "          'prevExon_Size','GC_prevExon', 'GC_Transcrip', 'MNase', 'MNase_nextExon', 'MNase_prevExon', 'len_intron', \n",
    "          'Count','density']\n",
    "full_list=['Splice_eff_WT','Splice_eff_NMD']+List_par"
   ]
  },
  {
   "cell_type": "code",
   "execution_count": 21,
   "metadata": {},
   "outputs": [
    {
     "data": {
      "text/html": [
       "<div>\n",
       "<style scoped>\n",
       "    .dataframe tbody tr th:only-of-type {\n",
       "        vertical-align: middle;\n",
       "    }\n",
       "\n",
       "    .dataframe tbody tr th {\n",
       "        vertical-align: top;\n",
       "    }\n",
       "\n",
       "    .dataframe thead th {\n",
       "        text-align: right;\n",
       "    }\n",
       "</style>\n",
       "<table border=\"1\" class=\"dataframe\">\n",
       "  <thead>\n",
       "    <tr style=\"text-align: right;\">\n",
       "      <th></th>\n",
       "      <th>Splice_eff_WT</th>\n",
       "      <th>Splice_eff_NMD</th>\n",
       "      <th>RPKM_WT</th>\n",
       "      <th>distance_center</th>\n",
       "      <th>Intron_position</th>\n",
       "      <th>Transcript_size</th>\n",
       "      <th>GC</th>\n",
       "      <th>GC_nextExon</th>\n",
       "      <th>nextExon_Size</th>\n",
       "      <th>prevExon_Size</th>\n",
       "      <th>GC_prevExon</th>\n",
       "      <th>GC_Transcrip</th>\n",
       "      <th>MNase</th>\n",
       "      <th>MNase_nextExon</th>\n",
       "      <th>MNase_prevExon</th>\n",
       "      <th>len_intron</th>\n",
       "      <th>Count</th>\n",
       "      <th>density</th>\n",
       "    </tr>\n",
       "  </thead>\n",
       "  <tbody>\n",
       "    <tr>\n",
       "      <td>count</td>\n",
       "      <td>5.614600e+04</td>\n",
       "      <td>5.614600e+04</td>\n",
       "      <td>5.614600e+04</td>\n",
       "      <td>5.614600e+04</td>\n",
       "      <td>5.614600e+04</td>\n",
       "      <td>5.614600e+04</td>\n",
       "      <td>5.614600e+04</td>\n",
       "      <td>5.614600e+04</td>\n",
       "      <td>5.614600e+04</td>\n",
       "      <td>5.614600e+04</td>\n",
       "      <td>5.614600e+04</td>\n",
       "      <td>5.614600e+04</td>\n",
       "      <td>5.614600e+04</td>\n",
       "      <td>5.614600e+04</td>\n",
       "      <td>5.614600e+04</td>\n",
       "      <td>5.614600e+04</td>\n",
       "      <td>5.614600e+04</td>\n",
       "      <td>5.614600e+04</td>\n",
       "    </tr>\n",
       "    <tr>\n",
       "      <td>mean</td>\n",
       "      <td>-9.375167e-13</td>\n",
       "      <td>-5.982353e-13</td>\n",
       "      <td>-1.278170e-15</td>\n",
       "      <td>-7.434397e-16</td>\n",
       "      <td>-1.939819e-15</td>\n",
       "      <td>1.062706e-16</td>\n",
       "      <td>5.523603e-13</td>\n",
       "      <td>1.095491e-13</td>\n",
       "      <td>5.168590e-17</td>\n",
       "      <td>2.846101e-17</td>\n",
       "      <td>1.297743e-13</td>\n",
       "      <td>1.131548e-13</td>\n",
       "      <td>-3.404074e-15</td>\n",
       "      <td>4.615798e-15</td>\n",
       "      <td>-1.785106e-14</td>\n",
       "      <td>1.197516e-15</td>\n",
       "      <td>-9.257843e-16</td>\n",
       "      <td>-4.420050e-17</td>\n",
       "    </tr>\n",
       "    <tr>\n",
       "      <td>std</td>\n",
       "      <td>1.000009e+00</td>\n",
       "      <td>1.000009e+00</td>\n",
       "      <td>1.000009e+00</td>\n",
       "      <td>1.000009e+00</td>\n",
       "      <td>1.000009e+00</td>\n",
       "      <td>1.000009e+00</td>\n",
       "      <td>1.000009e+00</td>\n",
       "      <td>1.000009e+00</td>\n",
       "      <td>1.000009e+00</td>\n",
       "      <td>1.000009e+00</td>\n",
       "      <td>1.000009e+00</td>\n",
       "      <td>1.000009e+00</td>\n",
       "      <td>1.000009e+00</td>\n",
       "      <td>1.000009e+00</td>\n",
       "      <td>1.000009e+00</td>\n",
       "      <td>1.000009e+00</td>\n",
       "      <td>1.000009e+00</td>\n",
       "      <td>1.000009e+00</td>\n",
       "    </tr>\n",
       "    <tr>\n",
       "      <td>min</td>\n",
       "      <td>-5.211862e+00</td>\n",
       "      <td>-4.930531e+00</td>\n",
       "      <td>-3.645694e+00</td>\n",
       "      <td>-1.042351e+00</td>\n",
       "      <td>-8.272165e-01</td>\n",
       "      <td>-1.225962e+00</td>\n",
       "      <td>-2.122208e+00</td>\n",
       "      <td>-6.654901e+00</td>\n",
       "      <td>-7.284012e-01</td>\n",
       "      <td>-5.917425e-01</td>\n",
       "      <td>-6.651768e+00</td>\n",
       "      <td>-6.794978e+00</td>\n",
       "      <td>-1.766576e+00</td>\n",
       "      <td>-3.196094e+00</td>\n",
       "      <td>-3.014622e+00</td>\n",
       "      <td>-2.535875e+00</td>\n",
       "      <td>-1.167940e+00</td>\n",
       "      <td>-1.127280e+00</td>\n",
       "    </tr>\n",
       "    <tr>\n",
       "      <td>25%</td>\n",
       "      <td>-5.088144e-02</td>\n",
       "      <td>-8.991808e-02</td>\n",
       "      <td>-6.888821e-01</td>\n",
       "      <td>-5.228236e-01</td>\n",
       "      <td>-8.272165e-01</td>\n",
       "      <td>-5.682656e-01</td>\n",
       "      <td>-7.308844e-01</td>\n",
       "      <td>-6.899363e-01</td>\n",
       "      <td>-4.526503e-01</td>\n",
       "      <td>-3.870277e-01</td>\n",
       "      <td>-6.590873e-01</td>\n",
       "      <td>-7.123601e-01</td>\n",
       "      <td>-7.121164e-01</td>\n",
       "      <td>-6.338485e-01</td>\n",
       "      <td>-6.260313e-01</td>\n",
       "      <td>-8.515514e-01</td>\n",
       "      <td>-6.388433e-01</td>\n",
       "      <td>-7.257854e-01</td>\n",
       "    </tr>\n",
       "    <tr>\n",
       "      <td>50%</td>\n",
       "      <td>4.740724e-01</td>\n",
       "      <td>4.302728e-01</td>\n",
       "      <td>-1.347072e-01</td>\n",
       "      <td>-9.121616e-02</td>\n",
       "      <td>-2.755882e-01</td>\n",
       "      <td>-2.491098e-01</td>\n",
       "      <td>-3.522281e-02</td>\n",
       "      <td>-4.970683e-02</td>\n",
       "      <td>-3.029048e-01</td>\n",
       "      <td>-2.707124e-01</td>\n",
       "      <td>-2.693094e-02</td>\n",
       "      <td>-4.669966e-02</td>\n",
       "      <td>-2.299325e-01</td>\n",
       "      <td>-8.929118e-02</td>\n",
       "      <td>-8.910169e-02</td>\n",
       "      <td>-9.389685e-03</td>\n",
       "      <td>-1.097470e-01</td>\n",
       "      <td>-1.473610e-01</td>\n",
       "    </tr>\n",
       "    <tr>\n",
       "      <td>75%</td>\n",
       "      <td>5.507164e-01</td>\n",
       "      <td>5.964040e-01</td>\n",
       "      <td>5.793118e-01</td>\n",
       "      <td>2.125076e-01</td>\n",
       "      <td>2.760401e-01</td>\n",
       "      <td>1.981237e-01</td>\n",
       "      <td>6.604388e-01</td>\n",
       "      <td>6.419131e-01</td>\n",
       "      <td>5.137108e-02</td>\n",
       "      <td>-5.513619e-03</td>\n",
       "      <td>6.418300e-01</td>\n",
       "      <td>6.654899e-01</td>\n",
       "      <td>4.813415e-01</td>\n",
       "      <td>5.010913e-01</td>\n",
       "      <td>4.960615e-01</td>\n",
       "      <td>4.116912e-01</td>\n",
       "      <td>4.193493e-01</td>\n",
       "      <td>5.875783e-01</td>\n",
       "    </tr>\n",
       "    <tr>\n",
       "      <td>max</td>\n",
       "      <td>5.507164e-01</td>\n",
       "      <td>6.110211e-01</td>\n",
       "      <td>5.366056e+00</td>\n",
       "      <td>6.724754e+01</td>\n",
       "      <td>1.241186e+01</td>\n",
       "      <td>1.360890e+01</td>\n",
       "      <td>5.220887e+00</td>\n",
       "      <td>1.505757e+01</td>\n",
       "      <td>2.389743e+01</td>\n",
       "      <td>3.127554e+01</td>\n",
       "      <td>6.246385e+00</td>\n",
       "      <td>4.417301e+00</td>\n",
       "      <td>7.796370e+00</td>\n",
       "      <td>1.312946e+01</td>\n",
       "      <td>1.248693e+01</td>\n",
       "      <td>8.833308e+00</td>\n",
       "      <td>9.413986e+00</td>\n",
       "      <td>5.764064e+01</td>\n",
       "    </tr>\n",
       "  </tbody>\n",
       "</table>\n",
       "</div>"
      ],
      "text/plain": [
       "       Splice_eff_WT  Splice_eff_NMD       RPKM_WT  distance_center  \\\n",
       "count   5.614600e+04    5.614600e+04  5.614600e+04     5.614600e+04   \n",
       "mean   -9.375167e-13   -5.982353e-13 -1.278170e-15    -7.434397e-16   \n",
       "std     1.000009e+00    1.000009e+00  1.000009e+00     1.000009e+00   \n",
       "min    -5.211862e+00   -4.930531e+00 -3.645694e+00    -1.042351e+00   \n",
       "25%    -5.088144e-02   -8.991808e-02 -6.888821e-01    -5.228236e-01   \n",
       "50%     4.740724e-01    4.302728e-01 -1.347072e-01    -9.121616e-02   \n",
       "75%     5.507164e-01    5.964040e-01  5.793118e-01     2.125076e-01   \n",
       "max     5.507164e-01    6.110211e-01  5.366056e+00     6.724754e+01   \n",
       "\n",
       "       Intron_position  Transcript_size            GC   GC_nextExon  \\\n",
       "count     5.614600e+04     5.614600e+04  5.614600e+04  5.614600e+04   \n",
       "mean     -1.939819e-15     1.062706e-16  5.523603e-13  1.095491e-13   \n",
       "std       1.000009e+00     1.000009e+00  1.000009e+00  1.000009e+00   \n",
       "min      -8.272165e-01    -1.225962e+00 -2.122208e+00 -6.654901e+00   \n",
       "25%      -8.272165e-01    -5.682656e-01 -7.308844e-01 -6.899363e-01   \n",
       "50%      -2.755882e-01    -2.491098e-01 -3.522281e-02 -4.970683e-02   \n",
       "75%       2.760401e-01     1.981237e-01  6.604388e-01  6.419131e-01   \n",
       "max       1.241186e+01     1.360890e+01  5.220887e+00  1.505757e+01   \n",
       "\n",
       "       nextExon_Size  prevExon_Size   GC_prevExon  GC_Transcrip         MNase  \\\n",
       "count   5.614600e+04   5.614600e+04  5.614600e+04  5.614600e+04  5.614600e+04   \n",
       "mean    5.168590e-17   2.846101e-17  1.297743e-13  1.131548e-13 -3.404074e-15   \n",
       "std     1.000009e+00   1.000009e+00  1.000009e+00  1.000009e+00  1.000009e+00   \n",
       "min    -7.284012e-01  -5.917425e-01 -6.651768e+00 -6.794978e+00 -1.766576e+00   \n",
       "25%    -4.526503e-01  -3.870277e-01 -6.590873e-01 -7.123601e-01 -7.121164e-01   \n",
       "50%    -3.029048e-01  -2.707124e-01 -2.693094e-02 -4.669966e-02 -2.299325e-01   \n",
       "75%     5.137108e-02  -5.513619e-03  6.418300e-01  6.654899e-01  4.813415e-01   \n",
       "max     2.389743e+01   3.127554e+01  6.246385e+00  4.417301e+00  7.796370e+00   \n",
       "\n",
       "       MNase_nextExon  MNase_prevExon    len_intron         Count  \\\n",
       "count    5.614600e+04    5.614600e+04  5.614600e+04  5.614600e+04   \n",
       "mean     4.615798e-15   -1.785106e-14  1.197516e-15 -9.257843e-16   \n",
       "std      1.000009e+00    1.000009e+00  1.000009e+00  1.000009e+00   \n",
       "min     -3.196094e+00   -3.014622e+00 -2.535875e+00 -1.167940e+00   \n",
       "25%     -6.338485e-01   -6.260313e-01 -8.515514e-01 -6.388433e-01   \n",
       "50%     -8.929118e-02   -8.910169e-02 -9.389685e-03 -1.097470e-01   \n",
       "75%      5.010913e-01    4.960615e-01  4.116912e-01  4.193493e-01   \n",
       "max      1.312946e+01    1.248693e+01  8.833308e+00  9.413986e+00   \n",
       "\n",
       "            density  \n",
       "count  5.614600e+04  \n",
       "mean  -4.420050e-17  \n",
       "std    1.000009e+00  \n",
       "min   -1.127280e+00  \n",
       "25%   -7.257854e-01  \n",
       "50%   -1.473610e-01  \n",
       "75%    5.875783e-01  \n",
       "max    5.764064e+01  "
      ]
     },
     "execution_count": 21,
     "metadata": {},
     "output_type": "execute_result"
    }
   ],
   "source": [
    "Introns_info[full_list].describe()"
   ]
  },
  {
   "cell_type": "code",
   "execution_count": 22,
   "metadata": {},
   "outputs": [
    {
     "data": {
      "text/plain": [
       "<matplotlib.axes._subplots.AxesSubplot at 0x7fdbd9093a90>"
      ]
     },
     "execution_count": 22,
     "metadata": {},
     "output_type": "execute_result"
    },
    {
     "data": {
      "image/png": "[encoded data removed]",
      "text/plain": [
       "<Figure size 432x288 with 2 Axes>"
      ]
     },
     "metadata": {
      "needs_background": "light"
     },
     "output_type": "display_data"
    }
   ],
   "source": [
    "#check data correlation\n",
    "# calculate the correlation matrix\n",
    "corr = Introns_info[full_list].corr()\n",
    "\n",
    "# plot the correlation heatmap\n",
    "sns.heatmap(corr, xticklabels=corr.columns, yticklabels=corr.columns, cmap='RdBu')\n"
   ]
  },
  {
   "cell_type": "code",
   "execution_count": 23,
   "metadata": {},
   "outputs": [],
   "source": [
    "# linear fit and calculate parameters\n",
    "def fit_data(Introns_info,COL,list_par):\n",
    "    old=0\n",
    "    new=len(list_par)\n",
    "    while (old != new):\n",
    "        old=len(list_par)\n",
    "        mat_Introns_info=np.matrix(Introns_info[list_par])\n",
    "\n",
    "        X_train, X_test, y_train, y_test = train_test_split(mat_Introns_info,Introns_info[COL].values, test_size=0.1, random_state=0)\n",
    "        Mult_lin= LinearRegression()\n",
    "        Mult_lin.fit(X_train, y_train)\n",
    "\n",
    "        newX = pd.DataFrame({\"Constant\":np.ones(len(X_train))}).join(pd.DataFrame(X_train))\n",
    "        MSE = (sum((y_train-Mult_lin.predict(X_train))**2))/(len(newX)-len(newX.columns))\n",
    "\n",
    "        var_b = MSE*(np.linalg.inv(np.dot(newX.T,newX)).diagonal())\n",
    "        sd_b = np.sqrt(var_b)\n",
    "        ts_b =  np.append(Mult_lin.intercept_,Mult_lin.coef_)/ sd_b\n",
    "        p_values =np.array([2*(1-stats.t.cdf(np.abs(i),(newX.shape[0]-newX.shape[1]))) for i in ts_b])\n",
    "        params =np.append(Mult_lin.intercept_,Mult_lin.coef_)\n",
    "        \n",
    "        myDF3 = pd.DataFrame()\n",
    "        myDF3[\"param\"],myDF3[\"Coefficients\"],myDF3[\"Standard Errors\"],myDF3[\"t values\"],myDF3[\"pVal\"],myDF3[\"Sig\"] = [['constant']+list_par,params,sd_b,ts_b,p_values,p_values < 0.01\n",
    "    ]\n",
    "        new=sum(myDF3.Sig)\n",
    "        list_par=myDF3.query('Sig==True').param.tolist()\n",
    "\n",
    "    return {'Info':myDF3.query('Sig==True'),'Model':Mult_lin,'X_test':X_test,'y_test':y_test,'list_par':list_par}\n",
    "\n"
   ]
  },
  {
   "cell_type": "code",
   "execution_count": 24,
   "metadata": {},
   "outputs": [],
   "source": [
    "# caclulates contribution\n",
    "def calculate_model_info(Mult_lin,corr,col_corr):\n",
    "    coef_fd=pd.DataFrame({'coef':Mult_lin['Model'].coef_,'index':Mult_lin['list_par']})\n",
    "    coef_fd=corr[col_corr].reset_index().merge(coef_fd, on='index', how='inner')\n",
    "    coef_fd=coef_fd.assign(   CorCoef=abs(coef_fd[col_corr]*coef_fd.coef)\n",
    "                              )\n",
    "    TotalCorrelation=sum(coef_fd.CorCoef)\n",
    "    coef_fd=coef_fd.assign(\n",
    "            Contribution=100*(coef_fd.CorCoef)/TotalCorrelation\n",
    "        ).sort_values([\"Contribution\"],ascending=False).merge(\n",
    "            Mult_lin['Info'].rename(columns={'param':'index'}\n",
    "                     ).filter([\"index\",\"Standard Errors\",\"t values\",\"pVal\"]), on='index', how='inner')\n",
    "    return coef_fd\n"
   ]
  },
  {
   "cell_type": "code",
   "execution_count": 25,
   "metadata": {},
   "outputs": [],
   "source": [
    "#fit model using evry possible combination of parameters starting to 3 parameters to all of them\n",
    "results=dict()\n",
    "f=0\n",
    "for i in range(2,len(List_par)):\n",
    "    for List in list(itertools.combinations(List_par, i+1)):\n",
    "        try:\n",
    "            Mult_lin_NMD=fit_data(Introns_info,'Splice_eff_NMD',list(List))\n",
    "            kept=calculate_model_info(Mult_lin_NMD,corr,'Splice_eff_NMD')['index']\n",
    "            pears=pd.DataFrame({\n",
    "                'Real_NMD':Mult_lin_NMD['y_test'],\n",
    "                'Model_NMD':Mult_lin_NMD['Model'].predict(Mult_lin_NMD['X_test'])\n",
    "                }).corr().Model_NMD[0]\n",
    "            results[f]={'kept':list(kept),'corr':pears}\n",
    "            f+=1\n",
    "        except:\n",
    "            pass"
   ]
  },
  {
   "cell_type": "code",
   "execution_count": 26,
   "metadata": {},
   "outputs": [
    {
     "data": {
      "text/plain": [
       "0.3614908339058573"
      ]
     },
     "execution_count": 26,
     "metadata": {},
     "output_type": "execute_result"
    }
   ],
   "source": [
    "# identify best correlation\n",
    "results_cor=np.array([results[i]['corr'] for i in results.keys()])\n",
    "results_cor.max()"
   ]
  },
  {
   "cell_type": "code",
   "execution_count": 27,
   "metadata": {},
   "outputs": [
    {
     "data": {
      "text/plain": [
       "array([29344, 42726, 42751, 42757, 42760, 42763, 53783, 53789, 53792,\n",
       "       53795, 53819, 53822, 53825, 53826, 53829, 53830, 60749, 60752,\n",
       "       60755, 60756, 60759, 60760, 60776, 60779, 60780, 60781, 64018,\n",
       "       64021, 64022, 64023, 64030, 65117])"
      ]
     },
     "execution_count": 27,
     "metadata": {},
     "output_type": "execute_result"
    }
   ],
   "source": [
    "# identify iterations with the best correlation\n",
    "W=np.where(results_cor==results_cor.max())[0]\n",
    "W"
   ]
  },
  {
   "cell_type": "code",
   "execution_count": 28,
   "metadata": {},
   "outputs": [
    {
     "data": {
      "text/plain": [
       "[]"
      ]
     },
     "execution_count": 28,
     "metadata": {},
     "output_type": "execute_result"
    }
   ],
   "source": [
    "#check that they all use the same parameters\n",
    "differences=dict()\n",
    "for i in W:\n",
    "    for h in W:\n",
    "        differences[str(i)+'vs'+str(h)]=np.concatenate([list(set(results[i]['kept'])-set(results[h]['kept'])),list(set(results[h]['kept'])-set(results[i]['kept']))])\n",
    "        \n",
    "[d for d in differences.keys() if len(differences[d])>0]   "
   ]
  },
  {
   "cell_type": "code",
   "execution_count": 29,
   "metadata": {},
   "outputs": [
    {
     "data": {
      "text/plain": [
       "['RPKM_WT',\n",
       " 'GC',\n",
       " 'Intron_position',\n",
       " 'Count',\n",
       " 'len_intron',\n",
       " 'Transcript_size',\n",
       " 'nextExon_Size',\n",
       " 'prevExon_Size']"
      ]
     },
     "execution_count": 29,
     "metadata": {},
     "output_type": "execute_result"
    }
   ],
   "source": [
    "# select one of the simulation with best correlation\n",
    "selected_mode=29344\n",
    "par=results[selected_mode]['kept']\n",
    "par"
   ]
  },
  {
   "cell_type": "code",
   "execution_count": 30,
   "metadata": {},
   "outputs": [],
   "source": [
    "def fit_data_no_sel(genes_info,COL,list_par):\n",
    "    mat_genes_info=np.matrix(genes_info[list_par])\n",
    "\n",
    "    X_train, X_test, y_train, y_test = train_test_split(mat_genes_info,genes_info[COL].values, test_size=0.1, random_state=0)\n",
    "    Mult_lin= LinearRegression()\n",
    "    Mult_lin.fit(X_train, y_train)\n",
    "\n",
    "    newX = pd.DataFrame({\"Constant\":np.ones(len(X_train))}).join(pd.DataFrame(X_train))\n",
    "    MSE = (sum((y_train-Mult_lin.predict(X_train))**2))/(len(newX)-len(newX.columns))\n",
    "\n",
    "    var_b = MSE*(np.linalg.inv(np.dot(newX.T,newX)).diagonal())\n",
    "    sd_b = np.sqrt(var_b)\n",
    "    ts_b =  np.append(Mult_lin.intercept_,Mult_lin.coef_)/ sd_b\n",
    "    p_values =np.array([2*(1-stats.t.cdf(np.abs(i),(newX.shape[0]-newX.shape[1]))) for i in ts_b])\n",
    "    params =np.append(Mult_lin.intercept_,Mult_lin.coef_)\n",
    "\n",
    "    myDF3 = pd.DataFrame()\n",
    "    myDF3[\"param\"],myDF3[\"Coefficients\"],myDF3[\"Standard Errors\"],myDF3[\"t values\"],myDF3[\"pVal\"],myDF3[\"Sig\"] = [['constant']+list_par,params,sd_b,ts_b,p_values,p_values < 0.01\n",
    "        ]\n",
    "\n",
    "    return {'Info':myDF3,'Model':Mult_lin,'X_test':X_test,'y_test':y_test,'list_par':list_par}\n",
    "\n"
   ]
  },
  {
   "cell_type": "code",
   "execution_count": 31,
   "metadata": {
    "scrolled": true
   },
   "outputs": [
    {
     "data": {
      "text/html": [
       "<div>\n",
       "<style scoped>\n",
       "    .dataframe tbody tr th:only-of-type {\n",
       "        vertical-align: middle;\n",
       "    }\n",
       "\n",
       "    .dataframe tbody tr th {\n",
       "        vertical-align: top;\n",
       "    }\n",
       "\n",
       "    .dataframe thead th {\n",
       "        text-align: right;\n",
       "    }\n",
       "</style>\n",
       "<table border=\"1\" class=\"dataframe\">\n",
       "  <thead>\n",
       "    <tr style=\"text-align: right;\">\n",
       "      <th></th>\n",
       "      <th>index</th>\n",
       "      <th>Splice_eff_NMD</th>\n",
       "      <th>coef</th>\n",
       "      <th>CorCoef</th>\n",
       "      <th>Contribution</th>\n",
       "      <th>Standard Errors</th>\n",
       "      <th>t values</th>\n",
       "      <th>pVal</th>\n",
       "    </tr>\n",
       "  </thead>\n",
       "  <tbody>\n",
       "    <tr>\n",
       "      <td>0</td>\n",
       "      <td>RPKM_WT</td>\n",
       "      <td>0.257430</td>\n",
       "      <td>0.302045</td>\n",
       "      <td>0.077755</td>\n",
       "      <td>59.591081</td>\n",
       "      <td>0.004439</td>\n",
       "      <td>68.050737</td>\n",
       "      <td>0.000000e+00</td>\n",
       "    </tr>\n",
       "    <tr>\n",
       "      <td>1</td>\n",
       "      <td>GC</td>\n",
       "      <td>-0.149338</td>\n",
       "      <td>-0.166970</td>\n",
       "      <td>0.024935</td>\n",
       "      <td>19.109919</td>\n",
       "      <td>0.004249</td>\n",
       "      <td>-39.299208</td>\n",
       "      <td>0.000000e+00</td>\n",
       "    </tr>\n",
       "    <tr>\n",
       "      <td>2</td>\n",
       "      <td>Intron_position</td>\n",
       "      <td>0.112097</td>\n",
       "      <td>0.062188</td>\n",
       "      <td>0.006971</td>\n",
       "      <td>5.342572</td>\n",
       "      <td>0.005067</td>\n",
       "      <td>12.272383</td>\n",
       "      <td>0.000000e+00</td>\n",
       "    </tr>\n",
       "    <tr>\n",
       "      <td>3</td>\n",
       "      <td>Count</td>\n",
       "      <td>0.115211</td>\n",
       "      <td>0.059647</td>\n",
       "      <td>0.006872</td>\n",
       "      <td>5.266639</td>\n",
       "      <td>0.005466</td>\n",
       "      <td>10.912370</td>\n",
       "      <td>0.000000e+00</td>\n",
       "    </tr>\n",
       "    <tr>\n",
       "      <td>4</td>\n",
       "      <td>len_intron</td>\n",
       "      <td>0.094478</td>\n",
       "      <td>0.062608</td>\n",
       "      <td>0.005915</td>\n",
       "      <td>4.533283</td>\n",
       "      <td>0.004173</td>\n",
       "      <td>15.001939</td>\n",
       "      <td>0.000000e+00</td>\n",
       "    </tr>\n",
       "    <tr>\n",
       "      <td>5</td>\n",
       "      <td>Transcript_size</td>\n",
       "      <td>0.048362</td>\n",
       "      <td>0.090248</td>\n",
       "      <td>0.004365</td>\n",
       "      <td>3.344996</td>\n",
       "      <td>0.006003</td>\n",
       "      <td>15.032614</td>\n",
       "      <td>0.000000e+00</td>\n",
       "    </tr>\n",
       "    <tr>\n",
       "      <td>6</td>\n",
       "      <td>nextExon_Size</td>\n",
       "      <td>-0.054425</td>\n",
       "      <td>-0.041602</td>\n",
       "      <td>0.002264</td>\n",
       "      <td>1.735258</td>\n",
       "      <td>0.004736</td>\n",
       "      <td>-8.783742</td>\n",
       "      <td>0.000000e+00</td>\n",
       "    </tr>\n",
       "    <tr>\n",
       "      <td>7</td>\n",
       "      <td>prevExon_Size</td>\n",
       "      <td>0.051183</td>\n",
       "      <td>0.027437</td>\n",
       "      <td>0.001404</td>\n",
       "      <td>1.076250</td>\n",
       "      <td>0.005009</td>\n",
       "      <td>5.477383</td>\n",
       "      <td>4.337142e-08</td>\n",
       "    </tr>\n",
       "  </tbody>\n",
       "</table>\n",
       "</div>"
      ],
      "text/plain": [
       "             index  Splice_eff_NMD      coef   CorCoef  Contribution  \\\n",
       "0          RPKM_WT        0.257430  0.302045  0.077755     59.591081   \n",
       "1               GC       -0.149338 -0.166970  0.024935     19.109919   \n",
       "2  Intron_position        0.112097  0.062188  0.006971      5.342572   \n",
       "3            Count        0.115211  0.059647  0.006872      5.266639   \n",
       "4       len_intron        0.094478  0.062608  0.005915      4.533283   \n",
       "5  Transcript_size        0.048362  0.090248  0.004365      3.344996   \n",
       "6    nextExon_Size       -0.054425 -0.041602  0.002264      1.735258   \n",
       "7    prevExon_Size        0.051183  0.027437  0.001404      1.076250   \n",
       "\n",
       "   Standard Errors   t values          pVal  \n",
       "0         0.004439  68.050737  0.000000e+00  \n",
       "1         0.004249 -39.299208  0.000000e+00  \n",
       "2         0.005067  12.272383  0.000000e+00  \n",
       "3         0.005466  10.912370  0.000000e+00  \n",
       "4         0.004173  15.001939  0.000000e+00  \n",
       "5         0.006003  15.032614  0.000000e+00  \n",
       "6         0.004736  -8.783742  0.000000e+00  \n",
       "7         0.005009   5.477383  4.337142e-08  "
      ]
     },
     "execution_count": 31,
     "metadata": {},
     "output_type": "execute_result"
    }
   ],
   "source": [
    "Mult_lin_NMD=fit_data_no_sel(Introns_info,'Splice_eff_NMD',par)\n",
    "data=calculate_model_info(Mult_lin_NMD,corr,'Splice_eff_NMD')\n",
    "data"
   ]
  },
  {
   "cell_type": "code",
   "execution_count": 32,
   "metadata": {},
   "outputs": [
    {
     "data": {
      "text/html": [
       "<div>\n",
       "<style scoped>\n",
       "    .dataframe tbody tr th:only-of-type {\n",
       "        vertical-align: middle;\n",
       "    }\n",
       "\n",
       "    .dataframe tbody tr th {\n",
       "        vertical-align: top;\n",
       "    }\n",
       "\n",
       "    .dataframe thead th {\n",
       "        text-align: right;\n",
       "    }\n",
       "</style>\n",
       "<table border=\"1\" class=\"dataframe\">\n",
       "  <thead>\n",
       "    <tr style=\"text-align: right;\">\n",
       "      <th></th>\n",
       "      <th>Real_NMD</th>\n",
       "      <th>Model_NMD</th>\n",
       "    </tr>\n",
       "  </thead>\n",
       "  <tbody>\n",
       "    <tr>\n",
       "      <td>Real_NMD</td>\n",
       "      <td>1.000000</td>\n",
       "      <td>0.361491</td>\n",
       "    </tr>\n",
       "    <tr>\n",
       "      <td>Model_NMD</td>\n",
       "      <td>0.361491</td>\n",
       "      <td>1.000000</td>\n",
       "    </tr>\n",
       "  </tbody>\n",
       "</table>\n",
       "</div>"
      ],
      "text/plain": [
       "           Real_NMD  Model_NMD\n",
       "Real_NMD   1.000000   0.361491\n",
       "Model_NMD  0.361491   1.000000"
      ]
     },
     "execution_count": 32,
     "metadata": {},
     "output_type": "execute_result"
    }
   ],
   "source": [
    "pd.DataFrame({\n",
    "'Real_NMD':Mult_lin_NMD['y_test'],\n",
    "'Model_NMD':Mult_lin_NMD['Model'].predict(Mult_lin_NMD['X_test'])\n",
    "}).corr()"
   ]
  },
  {
   "cell_type": "code",
   "execution_count": 33,
   "metadata": {},
   "outputs": [
    {
     "data": {
      "text/plain": [
       "0.12942875144660138"
      ]
     },
     "execution_count": 33,
     "metadata": {},
     "output_type": "execute_result"
    }
   ],
   "source": [
    "Mult_lin_NMD['Model'].score(Mult_lin_NMD['X_test'],Mult_lin_NMD['y_test'])"
   ]
  },
  {
   "cell_type": "code",
   "execution_count": 34,
   "metadata": {},
   "outputs": [
    {
     "data": {
      "image/png": "[encoded data removed]",
      "text/plain": [
       "<Figure size 432x288 with 1 Axes>"
      ]
     },
     "metadata": {
      "needs_background": "light"
     },
     "output_type": "display_data"
    }
   ],
   "source": [
    "data.set_index(['index']).sort_values(['Contribution']).Contribution.plot(kind='barh',color='blue')\n",
    "plt.savefig('Model_contribution_NMD_Visible.pdf',  format='pdf')"
   ]
  },
  {
   "cell_type": "code",
   "execution_count": null,
   "metadata": {},
   "outputs": [],
   "source": []
  }
 ],
 "metadata": {
  "kernelspec": {
   "display_name": "Python 3",
   "language": "python",
   "name": "python3"
  },
  "language_info": {
   "codemirror_mode": {
    "name": "ipython",
    "version": 3
   },
   "file_extension": ".py",
   "mimetype": "text/x-python",
   "name": "python",
   "nbconvert_exporter": "python",
   "pygments_lexer": "ipython3",
   "version": "3.7.4"
  }
 },
 "nbformat": 4,
 "nbformat_minor": 2
}
