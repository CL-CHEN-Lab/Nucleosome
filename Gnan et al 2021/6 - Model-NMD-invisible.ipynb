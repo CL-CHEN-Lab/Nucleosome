{
 "cells": [
  {
   "cell_type": "code",
   "execution_count": 1,
   "metadata": {},
   "outputs": [],
   "source": [
    "import pandas as pd\n",
    "import numpy as np\n",
    "import matplotlib.pyplot as plt\n",
    "from sklearn.linear_model import LinearRegression\n",
    "import seaborn as sns\n",
    "from sklearn.model_selection import train_test_split\n",
    "import statsmodels.api as sm\n",
    "from scipy import stats\n",
    "import matplotlib as mpl\n",
    "import itertools"
   ]
  },
  {
   "cell_type": "code",
   "execution_count": 2,
   "metadata": {},
   "outputs": [],
   "source": [
    "#load introns and divide by sense\n",
    "\n",
    "Introns=pd.read_csv('/Volumes/Storage3/Paramecium.FromChunlong/Data/NMD/20140122.Intron.Count.WTandNMD.Mac51.Validated.tab',sep='\\t')\n",
    "\n",
    "Introns=Introns.query('(Scaffold < 167 or Scaffold==556 ) and WT_Spl > WT_Ret+WT_AS and PTC_inducing==\"invisible\"')\n",
    "del Introns['Gene_ID']\n",
    "Introns_neg=Introns.query(\"Sense==-1\")\n",
    "Introns_pos=Introns.query(\"Sense==1\")"
   ]
  },
  {
   "cell_type": "code",
   "execution_count": 3,
   "metadata": {},
   "outputs": [],
   "source": [
    "# load new exons annotation and divide by sense\n",
    "exons=pd.read_csv('/Users/sgnan/Desktop/paramecium/Genes/ptetraurelia_mac_51_annotation_v2.0.gff3',sep='\\t',skiprows=2,names=['Scaffold','EuGene','feature','Exon_start_Mac51','Exon_end_Mac51','dot','strand','value','Info']).query('feature==\"exon\"')\n",
    "exons=exons.assign(\n",
    "    Scaffold=exons.Scaffold.apply(lambda x: x.split('_')[1]).astype(int),\n",
    "    Gene_ID=exons.Info.apply(lambda x: x.split('ID=')[1]).apply(lambda x: x.split(':')[0]),\n",
    "    Sense=exons.strand.apply(lambda x: -1 if x =='-' else 1)\n",
    "\n",
    ").query('Scaffold < 167  or Scaffold==556').filter(['Scaffold','Exon_start_Mac51','Exon_end_Mac51','Sense','Gene_ID'])\n",
    "\n",
    "Exons_neg=exons.query(\"Sense==-1\").filter(['Scaffold','Exon_start_Mac51','Exon_end_Mac51','Gene_ID','Sense'])\n",
    "Exons_pos=exons.query(\"Sense==1\").filter(['Scaffold','Exon_start_Mac51','Exon_end_Mac51','Gene_ID','Sense'])"
   ]
  },
  {
   "cell_type": "code",
   "execution_count": 4,
   "metadata": {},
   "outputs": [],
   "source": [
    "# attach preovious and following exon to each intron\n",
    "Introns_neg=Introns_neg.merge(Exons_neg.assign(Intron_start_Mac51=Exons_neg.Exon_end_Mac51+1), how='inner',on=['Scaffold','Intron_start_Mac51','Sense']).rename(columns={\"Exon_start_Mac51\":\"nextExon_start_Mac51\",\n",
    "                                                                                      \"Exon_end_Mac51\":\"nextExon_end_Mac51\"\n",
    "                                                                                     }\n",
    ").merge(Exons_neg.assign(Intron_stop_Mac51=Exons_neg.Exon_start_Mac51-1), how='inner',on=['Scaffold','Gene_ID','Intron_stop_Mac51','Sense']).rename(columns={\"Exon_start_Mac51\":\"prevExon_start_Mac51\",\n",
    "                                                                                      \"Exon_end_Mac51\":\"prevExon_end_Mac51\"\n",
    "                                                                                     })\n",
    "\n",
    "Introns_pos=Introns_pos.merge(Exons_pos.assign(Intron_stop_Mac51=Exons_pos.Exon_start_Mac51-1), how='inner',on=['Scaffold','Intron_stop_Mac51','Sense']).rename(columns={\"Exon_start_Mac51\":\"nextExon_start_Mac51\",\n",
    "                                                                                      \"Exon_end_Mac51\":\"nextExon_end_Mac51\"\n",
    "                                                                                     }\n",
    ").merge(Exons_pos.assign(Intron_start_Mac51=Exons_pos.Exon_end_Mac51+1), how='inner',on=['Scaffold','Gene_ID','Intron_start_Mac51','Sense']).rename(columns={\"Exon_start_Mac51\":\"prevExon_start_Mac51\",\n",
    "                                                                                      \"Exon_end_Mac51\":\"prevExon_end_Mac51\"\n",
    "                                                                                     })\n",
    "\n"
   ]
  },
  {
   "cell_type": "code",
   "execution_count": 5,
   "metadata": {},
   "outputs": [],
   "source": [
    "# concatenate introns\n",
    "Introns_info=pd.concat([Introns_neg,Introns_pos],axis=0)"
   ]
  },
  {
   "cell_type": "code",
   "execution_count": 6,
   "metadata": {},
   "outputs": [
    {
     "data": {
      "text/plain": [
       "98.36445216384426"
      ]
     },
     "execution_count": 6,
     "metadata": {},
     "output_type": "execute_result"
    }
   ],
   "source": [
    "100*(Introns_info.shape[0])/Introns.shape[0]"
   ]
  },
  {
   "cell_type": "code",
   "execution_count": 7,
   "metadata": {},
   "outputs": [],
   "source": [
    "# tanscrip info\n",
    "Transcript=exons.groupby(['Gene_ID']).agg({'Exon_start_Mac51':'min','Exon_end_Mac51':'max'})\n",
    "Transcript=Transcript.reset_index().rename(columns={'Exon_start_Mac51':'Transcript_start_Mac51','Exon_end_Mac51':'Transcript_end_Mac51'})\n",
    "Transcript=Transcript.assign(\n",
    "Transcript_size=Transcript.Transcript_end_Mac51.values-Transcript.Transcript_start_Mac51.values\n",
    ")"
   ]
  },
  {
   "cell_type": "code",
   "execution_count": 8,
   "metadata": {},
   "outputs": [],
   "source": [
    "Introns_info=Introns_info.merge(Transcript)"
   ]
  },
  {
   "cell_type": "code",
   "execution_count": 9,
   "metadata": {},
   "outputs": [],
   "source": [
    "#load peaks and add center\n",
    "Peaks=pd.read_csv('/Users/sgnan/Desktop/paramecium/common_Nucleosome_peaks.bed',sep='\\t',names=['Scaffold','start','end'])\n",
    "Peaks['center']=(Peaks.start.values+Peaks.end.values)/2\n",
    "#prepare genes to calculate distance form center\n",
    "Introns_info=Introns_info.assign(\n",
    "    center=(Introns_info.Intron_start_Mac51.values+Introns_info.Intron_stop_Mac51.values)/2,\n",
    "    width=1+Introns_info.Intron_stop_Mac51.values-Introns_info.Intron_start_Mac51.values,\n",
    "    distance_center=np.nan,\n",
    "    density=np.nan)"
   ]
  },
  {
   "cell_type": "code",
   "execution_count": 10,
   "metadata": {},
   "outputs": [],
   "source": [
    "#calculate distance from the center of the closest nucleosome\n",
    "Scaffold_list2=np.unique(Peaks.Scaffold.values)\n",
    "for scaffold in Scaffold_list2:\n",
    "    Introns_info[Introns_info.Scaffold==scaffold]=Introns_info[Introns_info.Scaffold==scaffold].assign(\n",
    "        distance_center=np.asarray(np.min(abs(np.matrix(Introns_info.query('Scaffold=='+str(scaffold)).center.values)-np.matrix(Peaks.query('Scaffold=='+str(scaffold)).center.values).T),axis=0))[0],\n",
    "        density=np.array(np.abs(np.diff(np.sort(abs(np.matrix(Introns_info.query('Scaffold=='+str(scaffold)).center.values)-np.matrix(Peaks.query('Scaffold=='+str(scaffold)).center.values).T),axis=0)[0:2,:],axis=0)))[0]\n",
    "    )\n"
   ]
  },
  {
   "cell_type": "code",
   "execution_count": null,
   "metadata": {},
   "outputs": [],
   "source": []
  },
  {
   "cell_type": "code",
   "execution_count": 11,
   "metadata": {},
   "outputs": [],
   "source": [
    "# drop missing values\n",
    "Introns_info=Introns_info.dropna()\n",
    "# select features\n",
    "Introns_info=Introns_info[['Sense','Strong_donor','Strong_acceptor','Gene_ID','Scaffold','Intron_start_Mac51','Intron_stop_Mac51','WT_Spl','WT_Ret','WT_AS','NMD_Spl', 'NMD_Ret', 'NMD_AS','RPKM_WT','distance_center','nextExon_end_Mac51','nextExon_start_Mac51','prevExon_end_Mac51','prevExon_start_Mac51','Intron_position','Transcript_size','Transcript_start_Mac51','Transcript_end_Mac51','density']].reset_index(drop=True)\n",
    "# convert features into integers\n",
    "Introns_info[['nextExon_end_Mac51','nextExon_start_Mac51','prevExon_end_Mac51','prevExon_start_Mac51','Transcript_start_Mac51','Transcript_end_Mac51']]=Introns_info[['nextExon_end_Mac51','nextExon_start_Mac51','prevExon_end_Mac51','prevExon_start_Mac51','Transcript_start_Mac51','Transcript_end_Mac51']].astype(int)\n"
   ]
  },
  {
   "cell_type": "code",
   "execution_count": 12,
   "metadata": {},
   "outputs": [],
   "source": [
    "# load genome sequece\n",
    "fasta_dir='/Volumes/Storage3/Paramecium.FromChunlong/Data/Genome/mac_51/Scaffold/'\n",
    "sequences=dict()\n",
    "fasta_files=['20120207.scaffold51_'+str(i)+'.fa' for i in list(range(1,167))+[556]]\n",
    "for i in list(range(1,167))+[556]:\n",
    "    f = open(fasta_dir+'20120207.scaffold51_'+str(i)+'.fa','r')\n",
    "    lines=f.readlines()[1:]\n",
    "    f.close()\n",
    "    sequences[i]=''.join([l.strip('\\n') for l in lines])"
   ]
  },
  {
   "cell_type": "code",
   "execution_count": 13,
   "metadata": {},
   "outputs": [],
   "source": [
    "# calculate GC content of the intron of interest\n",
    "def GCcontent(sequences,Introns_info,i):\n",
    "    intron=sequences[Introns_info.Scaffold.iloc[i]][(Introns_info.Intron_start_Mac51.iloc[i]+1):Introns_info.Intron_stop_Mac51.iloc[i]-2]\n",
    "    GC=100*(intron.count('C')+intron.count('G'))/len(intron)\n",
    "    return GC\n",
    "\n",
    "# calculate GC content of the previous exon\n",
    "def GCcontent_prev_ex(sequences,Introns_info,i):\n",
    "    intron=sequences[Introns_info.Scaffold.iloc[i]][(Introns_info.prevExon_start_Mac51.iloc[i]-1):Introns_info.prevExon_end_Mac51.iloc[i]]\n",
    "    GC=100*(intron.count('C')+intron.count('G'))/len(intron)\n",
    "    return GC\n",
    "\n",
    "# calculate GC content of the following exon\n",
    "def GCcontent_next_ex(sequences,Introns_info,i):\n",
    "    intron=sequences[Introns_info.Scaffold.iloc[i]][(Introns_info.nextExon_start_Mac51.iloc[i]-1):Introns_info.nextExon_end_Mac51.iloc[i]]\n",
    "    GC=100*(intron.count('C')+intron.count('G'))/len(intron)\n",
    "    return GC\n",
    "\n",
    "# calculate GC content of the transcriptional unit\n",
    "def GCcontent_Transcrip(sequences,Introns_info,i):\n",
    "    intron=sequences[Introns_info.Scaffold.iloc[i]][(Introns_info.Transcript_start_Mac51.iloc[i]-1):Introns_info.Transcript_end_Mac51.iloc[i]]\n",
    "    GC=100*(intron.count('C')+intron.count('G'))/len(intron)\n",
    "    return GC\n",
    "\n",
    "Introns_info=Introns_info.assign(\n",
    "GC=[GCcontent(sequences,Introns_info,i) for i in range(len(Introns_info.index))],\n",
    "GC_nextExon=[GCcontent_next_ex(sequences,Introns_info,i) for i in range(len(Introns_info.index))],\n",
    "GC_prevExon=[GCcontent_prev_ex(sequences,Introns_info,i) for i in range(len(Introns_info.index))],\n",
    "GC_Transcrip=[GCcontent_Transcrip(sequences,Introns_info,i) for i in range(len(Introns_info.index))]\n",
    ")"
   ]
  },
  {
   "cell_type": "code",
   "execution_count": 14,
   "metadata": {},
   "outputs": [],
   "source": [
    "# calculate sizes of enxons\n",
    "Introns_info['nextExon_Size']=1+Introns_info.nextExon_end_Mac51-Introns_info.nextExon_start_Mac51\n",
    "Introns_info['prevExon_Size']=1+Introns_info.prevExon_end_Mac51-Introns_info.prevExon_start_Mac51\n"
   ]
  },
  {
   "cell_type": "code",
   "execution_count": 15,
   "metadata": {},
   "outputs": [],
   "source": [
    "#load nucleosome scores\n",
    "data={\n",
    "'D1':np.load('/Users/sgnan/Desktop/paramecium/tracks/D1_nucleosome_score.npy',allow_pickle='TRUE').item(),\n",
    "'D2': np.load('/Users/sgnan/Desktop/paramecium/tracks/D2_nucleosome_score.npy',allow_pickle='TRUE').item(),\n",
    "'S41': np.load('/Users/sgnan/Desktop/paramecium/tracks/S41_nucleosome_score.npy',allow_pickle='TRUE').item(),\n",
    "'S32new': np.load('/Users/sgnan/Desktop/paramecium/tracks/S32new_nucleosome_score.npy',allow_pickle='TRUE').item()\n",
    "}"
   ]
  },
  {
   "cell_type": "code",
   "execution_count": 16,
   "metadata": {},
   "outputs": [],
   "source": [
    "# Average and correct normalise control\n",
    "data['D']={scaffold:0.01+(data['D1'][scaffold]+data['D2'][scaffold])/2 for scaffold in data['D1'].keys()}\n",
    "data['S']={scaffold:0.01+(data['S41'][scaffold]+data['S32new'][scaffold])/2 for scaffold in data['S32new'].keys()}\n",
    "\n",
    "data['Norm']={scaffold:(data['S'][scaffold]/data['D'][scaffold]) for scaffold in data['S'].keys()}\n",
    "# set nan and Inf to zero\n",
    "for scaffold in data['Norm'].keys():\n",
    "    data['Norm'][scaffold][np.isfinite(data['Norm'][scaffold])==False]=0"
   ]
  },
  {
   "cell_type": "code",
   "execution_count": 17,
   "metadata": {},
   "outputs": [],
   "source": [
    "# calculate median nucleosome score over introns\n",
    "def MNasesignal(sample_Track,Introns_info,i):\n",
    "    intron=np.median(sample_Track[Introns_info.Scaffold.iloc[i]][(Introns_info.Intron_start_Mac51.iloc[i]):Introns_info.Intron_stop_Mac51.iloc[i]+1])\n",
    "    return intron\n",
    "# calculate median nucleosome score over following exon\n",
    "def MNasesignal_next(sample_Track,Introns_info,i):\n",
    "    intron=np.median(sample_Track[Introns_info.Scaffold.iloc[i]][(Introns_info.nextExon_start_Mac51.iloc[i]):Introns_info.nextExon_end_Mac51.iloc[i]+1])\n",
    "    return intron\n",
    "# calculate median nucleosome score over previous exon\n",
    "def MNasesignal_prev(sample_Track,Introns_info,i):\n",
    "    intron=np.median(sample_Track[Introns_info.Scaffold.iloc[i]][(Introns_info.prevExon_start_Mac51.iloc[i]):Introns_info.prevExon_end_Mac51.iloc[i]+1])\n",
    "    return intron\n",
    "\n",
    "Introns_info=Introns_info.assign(\n",
    "MNase=[MNasesignal(data['Norm'],Introns_info,i) for i in range(len(Introns_info.index))],\n",
    "MNase_nextExon=[MNasesignal_next(data['Norm'],Introns_info,i) for i in range(len(Introns_info.index))],\n",
    "MNase_prevExon=[MNasesignal_prev(data['Norm'],Introns_info,i) for i in range(len(Introns_info.index))]\n",
    ")"
   ]
  },
  {
   "cell_type": "code",
   "execution_count": 18,
   "metadata": {},
   "outputs": [],
   "source": [
    "#calculate splicing efficiency and length of introns\n",
    "Introns_info=Introns_info.assign(\n",
    "Splice_eff_WT= (Introns_info.WT_Spl)/(Introns_info.WT_Spl+Introns_info.WT_Ret+Introns_info.WT_AS),\n",
    "Splice_eff_NMD= (Introns_info.NMD_Spl)/(Introns_info.NMD_Spl+Introns_info.NMD_Ret+Introns_info.NMD_AS),\n",
    "len_intron= 1+Introns_info.Intron_stop_Mac51-Introns_info.Intron_start_Mac51\n",
    ").dropna()\n",
    "\n",
    "#calculate n of introns in a transcript\n",
    "Introns_info['Count'] =np.array(Introns_info.groupby('Gene_ID')['Gene_ID'].transform('count'))"
   ]
  },
  {
   "cell_type": "code",
   "execution_count": 19,
   "metadata": {
    "scrolled": true
   },
   "outputs": [],
   "source": [
    "# save to file \n",
    "Introns_info.to_csv('Gene_info_from_Model.tsv',sep='\\t',index=False)\n",
    "\n",
    "#function that applies a transformation and standardizes data\n",
    "def norm_data_apply_function(x,FUN='A'):\n",
    "    if FUN!='A':\n",
    "        y=FUN(x)\n",
    "    else:\n",
    "        y=x\n",
    "    y=(y-np.mean(y))/np.std(y)\n",
    "    return(y)\n",
    "\n",
    "Introns_info=Introns_info.assign(\n",
    "    \n",
    "#splicing efficiency\n",
    "Splice_eff_WT=norm_data_apply_function(Introns_info.Splice_eff_WT,np.exp), \n",
    "Splice_eff_NMD=norm_data_apply_function(Introns_info.Splice_eff_NMD,np.exp), \n",
    "\n",
    "#RPKM\n",
    "RPKM_WT=norm_data_apply_function(Introns_info.RPKM_WT,np.log10),\n",
    "\n",
    "#local density\n",
    "density=norm_data_apply_function(Introns_info.density),\n",
    "\n",
    "#distance from center \n",
    "distance_center=norm_data_apply_function(Introns_info.distance_center),\n",
    "\n",
    "    \n",
    "#GC\n",
    "GC=norm_data_apply_function(Introns_info.GC),\n",
    "GC_nextExon=norm_data_apply_function(Introns_info.GC_nextExon),\n",
    "GC_prevExon=norm_data_apply_function(Introns_info.GC_prevExon),\n",
    "GC_Transcrip=norm_data_apply_function(Introns_info.GC_Transcrip),  \n",
    "\n",
    "\n",
    "#MNase\n",
    "MNase=norm_data_apply_function(Introns_info.MNase),\n",
    "MNase_nextExon=norm_data_apply_function(Introns_info.MNase_nextExon),\n",
    "MNase_prevExon=norm_data_apply_function(Introns_info.MNase_prevExon),\n",
    "    \n",
    "#size\n",
    "Transcript_size=norm_data_apply_function(Introns_info.Transcript_size),\n",
    "len_intron=norm_data_apply_function(Introns_info.len_intron),\n",
    "nextExon_Size=norm_data_apply_function(Introns_info.nextExon_Size),\n",
    "prevExon_Size=norm_data_apply_function(Introns_info.prevExon_Size),\n",
    "    \n",
    "#introns prop\n",
    "Count=norm_data_apply_function(Introns_info.Count),\n",
    "    \n",
    "Intron_position=norm_data_apply_function(Introns_info.Intron_position)\n",
    ")\n"
   ]
  },
  {
   "cell_type": "code",
   "execution_count": 20,
   "metadata": {},
   "outputs": [],
   "source": [
    "List_par=[ 'RPKM_WT','distance_center','Intron_position','Transcript_size','GC', 'GC_nextExon','nextExon_Size',\n",
    "          'prevExon_Size','GC_prevExon', 'GC_Transcrip', 'MNase', 'MNase_nextExon', 'MNase_prevExon', 'len_intron', \n",
    "          'Count','density']\n",
    "full_list=['Splice_eff_WT','Splice_eff_NMD']+List_par"
   ]
  },
  {
   "cell_type": "code",
   "execution_count": 21,
   "metadata": {},
   "outputs": [
    {
     "data": {
      "text/html": [
       "<div>\n",
       "<style scoped>\n",
       "    .dataframe tbody tr th:only-of-type {\n",
       "        vertical-align: middle;\n",
       "    }\n",
       "\n",
       "    .dataframe tbody tr th {\n",
       "        vertical-align: top;\n",
       "    }\n",
       "\n",
       "    .dataframe thead th {\n",
       "        text-align: right;\n",
       "    }\n",
       "</style>\n",
       "<table border=\"1\" class=\"dataframe\">\n",
       "  <thead>\n",
       "    <tr style=\"text-align: right;\">\n",
       "      <th></th>\n",
       "      <th>Splice_eff_WT</th>\n",
       "      <th>Splice_eff_NMD</th>\n",
       "      <th>RPKM_WT</th>\n",
       "      <th>distance_center</th>\n",
       "      <th>Intron_position</th>\n",
       "      <th>Transcript_size</th>\n",
       "      <th>GC</th>\n",
       "      <th>GC_nextExon</th>\n",
       "      <th>nextExon_Size</th>\n",
       "      <th>prevExon_Size</th>\n",
       "      <th>GC_prevExon</th>\n",
       "      <th>GC_Transcrip</th>\n",
       "      <th>MNase</th>\n",
       "      <th>MNase_nextExon</th>\n",
       "      <th>MNase_prevExon</th>\n",
       "      <th>len_intron</th>\n",
       "      <th>Count</th>\n",
       "      <th>density</th>\n",
       "    </tr>\n",
       "  </thead>\n",
       "  <tbody>\n",
       "    <tr>\n",
       "      <td>count</td>\n",
       "      <td>1.351200e+04</td>\n",
       "      <td>1.351200e+04</td>\n",
       "      <td>1.351200e+04</td>\n",
       "      <td>1.351200e+04</td>\n",
       "      <td>1.351200e+04</td>\n",
       "      <td>1.351200e+04</td>\n",
       "      <td>1.351200e+04</td>\n",
       "      <td>1.351200e+04</td>\n",
       "      <td>1.351200e+04</td>\n",
       "      <td>1.351200e+04</td>\n",
       "      <td>1.351200e+04</td>\n",
       "      <td>1.351200e+04</td>\n",
       "      <td>1.351200e+04</td>\n",
       "      <td>1.351200e+04</td>\n",
       "      <td>1.351200e+04</td>\n",
       "      <td>1.351200e+04</td>\n",
       "      <td>1.351200e+04</td>\n",
       "      <td>1.351200e+04</td>\n",
       "    </tr>\n",
       "    <tr>\n",
       "      <td>mean</td>\n",
       "      <td>-1.534135e-13</td>\n",
       "      <td>-1.292086e-13</td>\n",
       "      <td>-2.067544e-15</td>\n",
       "      <td>-2.749265e-17</td>\n",
       "      <td>-1.680700e-17</td>\n",
       "      <td>-1.766152e-17</td>\n",
       "      <td>-3.181174e-14</td>\n",
       "      <td>1.076813e-14</td>\n",
       "      <td>6.494377e-17</td>\n",
       "      <td>1.169218e-17</td>\n",
       "      <td>2.006534e-14</td>\n",
       "      <td>7.433274e-14</td>\n",
       "      <td>-4.179055e-15</td>\n",
       "      <td>-2.054942e-14</td>\n",
       "      <td>1.283223e-15</td>\n",
       "      <td>-2.497562e-15</td>\n",
       "      <td>-3.686282e-16</td>\n",
       "      <td>4.277958e-17</td>\n",
       "    </tr>\n",
       "    <tr>\n",
       "      <td>std</td>\n",
       "      <td>1.000037e+00</td>\n",
       "      <td>1.000037e+00</td>\n",
       "      <td>1.000037e+00</td>\n",
       "      <td>1.000037e+00</td>\n",
       "      <td>1.000037e+00</td>\n",
       "      <td>1.000037e+00</td>\n",
       "      <td>1.000037e+00</td>\n",
       "      <td>1.000037e+00</td>\n",
       "      <td>1.000037e+00</td>\n",
       "      <td>1.000037e+00</td>\n",
       "      <td>1.000037e+00</td>\n",
       "      <td>1.000037e+00</td>\n",
       "      <td>1.000037e+00</td>\n",
       "      <td>1.000037e+00</td>\n",
       "      <td>1.000037e+00</td>\n",
       "      <td>1.000037e+00</td>\n",
       "      <td>1.000037e+00</td>\n",
       "      <td>1.000037e+00</td>\n",
       "    </tr>\n",
       "    <tr>\n",
       "      <td>min</td>\n",
       "      <td>-6.105983e+00</td>\n",
       "      <td>-7.149631e+00</td>\n",
       "      <td>-3.456331e+00</td>\n",
       "      <td>-1.053585e+00</td>\n",
       "      <td>-9.888871e-01</td>\n",
       "      <td>-1.137958e+00</td>\n",
       "      <td>-1.852332e+00</td>\n",
       "      <td>-5.808837e+00</td>\n",
       "      <td>-7.609912e-01</td>\n",
       "      <td>-5.581378e-01</td>\n",
       "      <td>-6.714917e+00</td>\n",
       "      <td>-3.096726e+00</td>\n",
       "      <td>-1.799572e+00</td>\n",
       "      <td>-2.659455e+00</td>\n",
       "      <td>-2.988080e+00</td>\n",
       "      <td>-2.237922e+00</td>\n",
       "      <td>-6.858138e-01</td>\n",
       "      <td>-1.184894e+00</td>\n",
       "    </tr>\n",
       "    <tr>\n",
       "      <td>25%</td>\n",
       "      <td>-2.456720e-03</td>\n",
       "      <td>3.123169e-02</td>\n",
       "      <td>-7.004191e-01</td>\n",
       "      <td>-4.681339e-01</td>\n",
       "      <td>-4.756215e-01</td>\n",
       "      <td>-5.394262e-01</td>\n",
       "      <td>-6.475308e-01</td>\n",
       "      <td>-6.655714e-01</td>\n",
       "      <td>-4.251795e-01</td>\n",
       "      <td>-3.706211e-01</td>\n",
       "      <td>-6.808081e-01</td>\n",
       "      <td>-7.215450e-01</td>\n",
       "      <td>-7.010682e-01</td>\n",
       "      <td>-6.451591e-01</td>\n",
       "      <td>-6.346986e-01</td>\n",
       "      <td>-4.573097e-01</td>\n",
       "      <td>-6.858138e-01</td>\n",
       "      <td>-7.920095e-01</td>\n",
       "    </tr>\n",
       "    <tr>\n",
       "      <td>50%</td>\n",
       "      <td>4.440626e-01</td>\n",
       "      <td>3.696611e-01</td>\n",
       "      <td>-1.266580e-01</td>\n",
       "      <td>-9.759543e-02</td>\n",
       "      <td>-4.756215e-01</td>\n",
       "      <td>-2.333667e-01</td>\n",
       "      <td>-4.513019e-02</td>\n",
       "      <td>-2.324820e-02</td>\n",
       "      <td>-2.653982e-01</td>\n",
       "      <td>-2.642684e-01</td>\n",
       "      <td>-4.723813e-02</td>\n",
       "      <td>-5.021316e-02</td>\n",
       "      <td>-2.288533e-01</td>\n",
       "      <td>-9.386336e-02</td>\n",
       "      <td>-1.044177e-01</td>\n",
       "      <td>-4.573097e-01</td>\n",
       "      <td>-6.858138e-01</td>\n",
       "      <td>-1.874336e-01</td>\n",
       "    </tr>\n",
       "    <tr>\n",
       "      <td>75%</td>\n",
       "      <td>5.138968e-01</td>\n",
       "      <td>4.870663e-01</td>\n",
       "      <td>5.873497e-01</td>\n",
       "      <td>1.840138e-01</td>\n",
       "      <td>5.509096e-01</td>\n",
       "      <td>1.677999e-01</td>\n",
       "      <td>5.927058e-01</td>\n",
       "      <td>6.338659e-01</td>\n",
       "      <td>2.437483e-02</td>\n",
       "      <td>-6.782820e-03</td>\n",
       "      <td>6.472734e-01</td>\n",
       "      <td>6.653741e-01</td>\n",
       "      <td>4.509277e-01</td>\n",
       "      <td>5.200928e-01</td>\n",
       "      <td>4.975652e-01</td>\n",
       "      <td>8.781492e-01</td>\n",
       "      <td>6.076976e-01</td>\n",
       "      <td>6.593315e-01</td>\n",
       "    </tr>\n",
       "    <tr>\n",
       "      <td>max</td>\n",
       "      <td>5.138968e-01</td>\n",
       "      <td>4.870663e-01</td>\n",
       "      <td>4.033954e+00</td>\n",
       "      <td>6.610281e+01</td>\n",
       "      <td>1.132949e+01</td>\n",
       "      <td>1.084770e+01</td>\n",
       "      <td>4.445493e+00</td>\n",
       "      <td>5.474858e+00</td>\n",
       "      <td>2.581688e+01</td>\n",
       "      <td>1.958031e+01</td>\n",
       "      <td>4.239453e+00</td>\n",
       "      <td>3.812532e+00</td>\n",
       "      <td>7.492828e+00</td>\n",
       "      <td>7.545593e+00</td>\n",
       "      <td>9.775220e+00</td>\n",
       "      <td>8.000597e+00</td>\n",
       "      <td>8.368766e+00</td>\n",
       "      <td>2.792086e+01</td>\n",
       "    </tr>\n",
       "  </tbody>\n",
       "</table>\n",
       "</div>"
      ],
      "text/plain": [
       "       Splice_eff_WT  Splice_eff_NMD       RPKM_WT  distance_center  \\\n",
       "count   1.351200e+04    1.351200e+04  1.351200e+04     1.351200e+04   \n",
       "mean   -1.534135e-13   -1.292086e-13 -2.067544e-15    -2.749265e-17   \n",
       "std     1.000037e+00    1.000037e+00  1.000037e+00     1.000037e+00   \n",
       "min    -6.105983e+00   -7.149631e+00 -3.456331e+00    -1.053585e+00   \n",
       "25%    -2.456720e-03    3.123169e-02 -7.004191e-01    -4.681339e-01   \n",
       "50%     4.440626e-01    3.696611e-01 -1.266580e-01    -9.759543e-02   \n",
       "75%     5.138968e-01    4.870663e-01  5.873497e-01     1.840138e-01   \n",
       "max     5.138968e-01    4.870663e-01  4.033954e+00     6.610281e+01   \n",
       "\n",
       "       Intron_position  Transcript_size            GC   GC_nextExon  \\\n",
       "count     1.351200e+04     1.351200e+04  1.351200e+04  1.351200e+04   \n",
       "mean     -1.680700e-17    -1.766152e-17 -3.181174e-14  1.076813e-14   \n",
       "std       1.000037e+00     1.000037e+00  1.000037e+00  1.000037e+00   \n",
       "min      -9.888871e-01    -1.137958e+00 -1.852332e+00 -5.808837e+00   \n",
       "25%      -4.756215e-01    -5.394262e-01 -6.475308e-01 -6.655714e-01   \n",
       "50%      -4.756215e-01    -2.333667e-01 -4.513019e-02 -2.324820e-02   \n",
       "75%       5.509096e-01     1.677999e-01  5.927058e-01  6.338659e-01   \n",
       "max       1.132949e+01     1.084770e+01  4.445493e+00  5.474858e+00   \n",
       "\n",
       "       nextExon_Size  prevExon_Size   GC_prevExon  GC_Transcrip         MNase  \\\n",
       "count   1.351200e+04   1.351200e+04  1.351200e+04  1.351200e+04  1.351200e+04   \n",
       "mean    6.494377e-17   1.169218e-17  2.006534e-14  7.433274e-14 -4.179055e-15   \n",
       "std     1.000037e+00   1.000037e+00  1.000037e+00  1.000037e+00  1.000037e+00   \n",
       "min    -7.609912e-01  -5.581378e-01 -6.714917e+00 -3.096726e+00 -1.799572e+00   \n",
       "25%    -4.251795e-01  -3.706211e-01 -6.808081e-01 -7.215450e-01 -7.010682e-01   \n",
       "50%    -2.653982e-01  -2.642684e-01 -4.723813e-02 -5.021316e-02 -2.288533e-01   \n",
       "75%     2.437483e-02  -6.782820e-03  6.472734e-01  6.653741e-01  4.509277e-01   \n",
       "max     2.581688e+01   1.958031e+01  4.239453e+00  3.812532e+00  7.492828e+00   \n",
       "\n",
       "       MNase_nextExon  MNase_prevExon    len_intron         Count  \\\n",
       "count    1.351200e+04    1.351200e+04  1.351200e+04  1.351200e+04   \n",
       "mean    -2.054942e-14    1.283223e-15 -2.497562e-15 -3.686282e-16   \n",
       "std      1.000037e+00    1.000037e+00  1.000037e+00  1.000037e+00   \n",
       "min     -2.659455e+00   -2.988080e+00 -2.237922e+00 -6.858138e-01   \n",
       "25%     -6.451591e-01   -6.346986e-01 -4.573097e-01 -6.858138e-01   \n",
       "50%     -9.386336e-02   -1.044177e-01 -4.573097e-01 -6.858138e-01   \n",
       "75%      5.200928e-01    4.975652e-01  8.781492e-01  6.076976e-01   \n",
       "max      7.545593e+00    9.775220e+00  8.000597e+00  8.368766e+00   \n",
       "\n",
       "            density  \n",
       "count  1.351200e+04  \n",
       "mean   4.277958e-17  \n",
       "std    1.000037e+00  \n",
       "min   -1.184894e+00  \n",
       "25%   -7.920095e-01  \n",
       "50%   -1.874336e-01  \n",
       "75%    6.593315e-01  \n",
       "max    2.792086e+01  "
      ]
     },
     "execution_count": 21,
     "metadata": {},
     "output_type": "execute_result"
    }
   ],
   "source": [
    "Introns_info[full_list].describe()"
   ]
  },
  {
   "cell_type": "code",
   "execution_count": 22,
   "metadata": {},
   "outputs": [
    {
     "data": {
      "text/plain": [
       "<matplotlib.axes._subplots.AxesSubplot at 0x7f850a2e0650>"
      ]
     },
     "execution_count": 22,
     "metadata": {},
     "output_type": "execute_result"
    },
    {
     "data": {
      "image/png": "[encoded data removed]",
      "text/plain": [
       "<Figure size 432x288 with 2 Axes>"
      ]
     },
     "metadata": {
      "needs_background": "light"
     },
     "output_type": "display_data"
    }
   ],
   "source": [
    "#check data correlation\n",
    "# calculate the correlation matrix\n",
    "corr = Introns_info[full_list].corr()\n",
    "\n",
    "# plot the correlation heatmap\n",
    "sns.heatmap(corr, xticklabels=corr.columns, yticklabels=corr.columns, cmap='RdBu')\n"
   ]
  },
  {
   "cell_type": "code",
   "execution_count": 23,
   "metadata": {},
   "outputs": [],
   "source": [
    "# linear fit and calculate parameters\n",
    "def fit_data(Introns_info,COL,list_par):\n",
    "    old=0\n",
    "    new=len(list_par)\n",
    "    while (old != new):\n",
    "        old=len(list_par)\n",
    "        mat_Introns_info=np.matrix(Introns_info[list_par])\n",
    "\n",
    "        X_train, X_test, y_train, y_test = train_test_split(mat_Introns_info,Introns_info[COL].values, test_size=0.1, random_state=0)\n",
    "        Mult_lin= LinearRegression()\n",
    "        Mult_lin.fit(X_train, y_train)\n",
    "\n",
    "        newX = pd.DataFrame({\"Constant\":np.ones(len(X_train))}).join(pd.DataFrame(X_train))\n",
    "        MSE = (sum((y_train-Mult_lin.predict(X_train))**2))/(len(newX)-len(newX.columns))\n",
    "\n",
    "        var_b = MSE*(np.linalg.inv(np.dot(newX.T,newX)).diagonal())\n",
    "        sd_b = np.sqrt(var_b)\n",
    "        ts_b =  np.append(Mult_lin.intercept_,Mult_lin.coef_)/ sd_b\n",
    "        p_values =np.array([2*(1-stats.t.cdf(np.abs(i),(newX.shape[0]-newX.shape[1]))) for i in ts_b])\n",
    "        params =np.append(Mult_lin.intercept_,Mult_lin.coef_)\n",
    "        \n",
    "        myDF3 = pd.DataFrame()\n",
    "        myDF3[\"param\"],myDF3[\"Coefficients\"],myDF3[\"Standard Errors\"],myDF3[\"t values\"],myDF3[\"pVal\"],myDF3[\"Sig\"] = [['constant']+list_par,params,sd_b,ts_b,p_values,p_values < 0.01\n",
    "    ]\n",
    "        new=sum(myDF3.Sig)\n",
    "        list_par=myDF3.query('Sig==True').param.tolist()\n",
    "\n",
    "    return {'Info':myDF3.query('Sig==True'),'Model':Mult_lin,'X_test':X_test,'y_test':y_test,'list_par':list_par}\n",
    "\n"
   ]
  },
  {
   "cell_type": "code",
   "execution_count": 24,
   "metadata": {},
   "outputs": [],
   "source": [
    "# caclulates contribution\n",
    "def calculate_model_info(Mult_lin,corr,col_corr):\n",
    "    coef_fd=pd.DataFrame({'coef':Mult_lin['Model'].coef_,'index':Mult_lin['list_par']})\n",
    "    coef_fd=corr[col_corr].reset_index().merge(coef_fd, on='index', how='inner')\n",
    "    coef_fd=coef_fd.assign(   CorCoef=abs(coef_fd[col_corr]*coef_fd.coef)\n",
    "                              )\n",
    "    TotalCorrelation=sum(coef_fd.CorCoef)\n",
    "    coef_fd=coef_fd.assign(\n",
    "            Contribution=100*(coef_fd.CorCoef)/TotalCorrelation\n",
    "        ).sort_values([\"Contribution\"],ascending=False).merge(\n",
    "            Mult_lin['Info'].rename(columns={'param':'index'}\n",
    "                     ).filter([\"index\",\"Standard Errors\",\"t values\",\"pVal\"]), on='index', how='inner')\n",
    "    return coef_fd\n"
   ]
  },
  {
   "cell_type": "code",
   "execution_count": 25,
   "metadata": {},
   "outputs": [],
   "source": [
    "#fit model using evry possible combination of parameters starting to 3 parameters to all of them\n",
    "results=dict()\n",
    "f=0\n",
    "for i in range(2,len(List_par)):\n",
    "    for List in list(itertools.combinations(List_par, i+1)):\n",
    "        try:\n",
    "            Mult_lin_NMD=fit_data(Introns_info,'Splice_eff_NMD',list(List))\n",
    "            kept=calculate_model_info(Mult_lin_NMD,corr,'Splice_eff_NMD')['index']\n",
    "            pears=pd.DataFrame({\n",
    "                'Real_NMD':Mult_lin_NMD['y_test'],\n",
    "                'Model_NMD':Mult_lin_NMD['Model'].predict(Mult_lin_NMD['X_test'])\n",
    "                }).corr().Model_NMD[0]\n",
    "            results[f]={'kept':list(kept),'corr':pears}\n",
    "            f+=1\n",
    "        except:\n",
    "            pass"
   ]
  },
  {
   "cell_type": "code",
   "execution_count": 26,
   "metadata": {},
   "outputs": [
    {
     "data": {
      "text/plain": [
       "0.2957511961318663"
      ]
     },
     "execution_count": 26,
     "metadata": {},
     "output_type": "execute_result"
    }
   ],
   "source": [
    "# identify best correlation\n",
    "results_cor=np.array([results[i]['corr'] for i in results.keys()])\n",
    "results_cor.max()"
   ]
  },
  {
   "cell_type": "code",
   "execution_count": 27,
   "metadata": {},
   "outputs": [
    {
     "data": {
      "text/plain": [
       "array([  646,  2743,  2752,  2760,  2767,  2775,  2776,  2778,  2779,\n",
       "        7790,  7798,  7805,  7813,  7814,  7816,  7817,  7834,  7841,\n",
       "        7849,  7850,  7852,  7853,  7869,  7877,  7878,  7880,  7881,\n",
       "        7898,  7899,  7901,  7902,  7923,  7925,  7926,  7928,  7929,\n",
       "        7932, 16908, 16915, 16923, 16924, 16926, 16927, 16943, 16951,\n",
       "       16952, 16954, 16955, 16972, 16973, 16975, 16976, 16997, 16999,\n",
       "       17000, 17002, 17003, 17006, 17027, 17035, 17036, 17038, 17039,\n",
       "       17056, 17057, 17059, 17060, 17081, 17083, 17084, 17086, 17087,\n",
       "       17090, 17112, 17113, 17115, 17116, 17137, 17139, 17140, 17142,\n",
       "       17143, 17146, 17172, 17174, 17175, 17177, 17178, 17181, 17213,\n",
       "       17214, 17217, 17220, 29513, 29521, 29522, 29524, 29525, 29542,\n",
       "       29543, 29545, 29546, 29567, 29569, 29570, 29572, 29573, 29576,\n",
       "       29598, 29599, 29601, 29602, 29623, 29625, 29626, 29628, 29629,\n",
       "       29632, 29658, 29660, 29661, 29663, 29664, 29667, 29699, 29700,\n",
       "       29703, 29706, 29724, 29725, 29727, 29728, 29749, 29751, 29752,\n",
       "       29754, 29755, 29758, 29784, 29786, 29787, 29789, 29790, 29793,\n",
       "       29825, 29826, 29829, 29832, 29854, 29856, 29857, 29859, 29860,\n",
       "       29863, 29895, 29896, 29899, 29902, 29930, 29931, 29934, 29937,\n",
       "       29966, 42945, 42946, 42948, 42949, 42970, 42972, 42973, 42975,\n",
       "       42976, 42979, 43005, 43007, 43008, 43010, 43011, 43014, 43046,\n",
       "       43047, 43050, 43053, 43075, 43077, 43078, 43080, 43081, 43084,\n",
       "       43116, 43117, 43120, 43123, 43151, 43152, 43155, 43158, 43187,\n",
       "       43201, 43203, 43204, 43206, 43207, 43210, 43242, 43243, 43246,\n",
       "       43249, 43277, 43278, 43281, 43284, 43313, 43333, 43334, 43337,\n",
       "       43340, 43369, 43390, 53960, 53962, 53963, 53965, 53966, 53969,\n",
       "       54001, 54002, 54005, 54008, 54036, 54037, 54040, 54043, 54072,\n",
       "       54092, 54093, 54096, 54099, 54128, 54149, 54176, 54177, 54180,\n",
       "       54183, 54212, 54233, 54261, 60841, 60842, 60845, 60848, 60877,\n",
       "       60898, 60926, 60962, 64044])"
      ]
     },
     "execution_count": 27,
     "metadata": {},
     "output_type": "execute_result"
    }
   ],
   "source": [
    "# identify iterations with the best correlation\n",
    "W=np.where(results_cor==results_cor.max())[0]\n",
    "W"
   ]
  },
  {
   "cell_type": "code",
   "execution_count": 28,
   "metadata": {},
   "outputs": [
    {
     "data": {
      "text/plain": [
       "[]"
      ]
     },
     "execution_count": 28,
     "metadata": {},
     "output_type": "execute_result"
    }
   ],
   "source": [
    "#check that they all use the same parameters\n",
    "differences=dict()\n",
    "for i in W:\n",
    "    for h in W:\n",
    "        differences[str(i)+'vs'+str(h)]=np.concatenate([list(set(results[i]['kept'])-set(results[h]['kept'])),list(set(results[h]['kept'])-set(results[i]['kept']))])\n",
    "        \n",
    "[d for d in differences.keys() if len(differences[d])>0]   "
   ]
  },
  {
   "cell_type": "code",
   "execution_count": 30,
   "metadata": {},
   "outputs": [
    {
     "data": {
      "text/plain": [
       "['RPKM_WT', 'Transcript_size', 'GC_Transcrip', 'Intron_position']"
      ]
     },
     "execution_count": 30,
     "metadata": {},
     "output_type": "execute_result"
    }
   ],
   "source": [
    "# select one of the simulation with best correlation\n",
    "selected_mode=646\n",
    "par=results[selected_mode]['kept']\n",
    "par"
   ]
  },
  {
   "cell_type": "code",
   "execution_count": 31,
   "metadata": {},
   "outputs": [],
   "source": [
    "def fit_data_no_sel(genes_info,COL,list_par):\n",
    "    mat_genes_info=np.matrix(genes_info[list_par])\n",
    "\n",
    "    X_train, X_test, y_train, y_test = train_test_split(mat_genes_info,genes_info[COL].values, test_size=0.1, random_state=0)\n",
    "    Mult_lin= LinearRegression()\n",
    "    Mult_lin.fit(X_train, y_train)\n",
    "\n",
    "    newX = pd.DataFrame({\"Constant\":np.ones(len(X_train))}).join(pd.DataFrame(X_train))\n",
    "    MSE = (sum((y_train-Mult_lin.predict(X_train))**2))/(len(newX)-len(newX.columns))\n",
    "\n",
    "    var_b = MSE*(np.linalg.inv(np.dot(newX.T,newX)).diagonal())\n",
    "    sd_b = np.sqrt(var_b)\n",
    "    ts_b =  np.append(Mult_lin.intercept_,Mult_lin.coef_)/ sd_b\n",
    "    p_values =np.array([2*(1-stats.t.cdf(np.abs(i),(newX.shape[0]-newX.shape[1]))) for i in ts_b])\n",
    "    params =np.append(Mult_lin.intercept_,Mult_lin.coef_)\n",
    "\n",
    "    myDF3 = pd.DataFrame()\n",
    "    myDF3[\"param\"],myDF3[\"Coefficients\"],myDF3[\"Standard Errors\"],myDF3[\"t values\"],myDF3[\"pVal\"],myDF3[\"Sig\"] = [['constant']+list_par,params,sd_b,ts_b,p_values,p_values < 0.01\n",
    "        ]\n",
    "\n",
    "    return {'Info':myDF3,'Model':Mult_lin,'X_test':X_test,'y_test':y_test,'list_par':list_par}\n",
    "\n"
   ]
  },
  {
   "cell_type": "code",
   "execution_count": 32,
   "metadata": {
    "scrolled": true
   },
   "outputs": [
    {
     "data": {
      "text/html": [
       "<div>\n",
       "<style scoped>\n",
       "    .dataframe tbody tr th:only-of-type {\n",
       "        vertical-align: middle;\n",
       "    }\n",
       "\n",
       "    .dataframe tbody tr th {\n",
       "        vertical-align: top;\n",
       "    }\n",
       "\n",
       "    .dataframe thead th {\n",
       "        text-align: right;\n",
       "    }\n",
       "</style>\n",
       "<table border=\"1\" class=\"dataframe\">\n",
       "  <thead>\n",
       "    <tr style=\"text-align: right;\">\n",
       "      <th></th>\n",
       "      <th>index</th>\n",
       "      <th>Splice_eff_NMD</th>\n",
       "      <th>coef</th>\n",
       "      <th>CorCoef</th>\n",
       "      <th>Contribution</th>\n",
       "      <th>Standard Errors</th>\n",
       "      <th>t values</th>\n",
       "      <th>pVal</th>\n",
       "    </tr>\n",
       "  </thead>\n",
       "  <tbody>\n",
       "    <tr>\n",
       "      <td>0</td>\n",
       "      <td>RPKM_WT</td>\n",
       "      <td>0.223846</td>\n",
       "      <td>0.295717</td>\n",
       "      <td>0.066195</td>\n",
       "      <td>87.650799</td>\n",
       "      <td>0.010416</td>\n",
       "      <td>28.391718</td>\n",
       "      <td>0.000000e+00</td>\n",
       "    </tr>\n",
       "    <tr>\n",
       "      <td>1</td>\n",
       "      <td>Transcript_size</td>\n",
       "      <td>0.038749</td>\n",
       "      <td>0.110637</td>\n",
       "      <td>0.004287</td>\n",
       "      <td>5.676655</td>\n",
       "      <td>0.009742</td>\n",
       "      <td>11.357267</td>\n",
       "      <td>0.000000e+00</td>\n",
       "    </tr>\n",
       "    <tr>\n",
       "      <td>2</td>\n",
       "      <td>GC_Transcrip</td>\n",
       "      <td>0.051971</td>\n",
       "      <td>-0.076383</td>\n",
       "      <td>0.003970</td>\n",
       "      <td>5.256426</td>\n",
       "      <td>0.009970</td>\n",
       "      <td>-7.660977</td>\n",
       "      <td>1.998401e-14</td>\n",
       "    </tr>\n",
       "    <tr>\n",
       "      <td>3</td>\n",
       "      <td>Intron_position</td>\n",
       "      <td>0.036249</td>\n",
       "      <td>0.029504</td>\n",
       "      <td>0.001069</td>\n",
       "      <td>1.416120</td>\n",
       "      <td>0.009217</td>\n",
       "      <td>3.200912</td>\n",
       "      <td>1.373456e-03</td>\n",
       "    </tr>\n",
       "  </tbody>\n",
       "</table>\n",
       "</div>"
      ],
      "text/plain": [
       "             index  Splice_eff_NMD      coef   CorCoef  Contribution  \\\n",
       "0          RPKM_WT        0.223846  0.295717  0.066195     87.650799   \n",
       "1  Transcript_size        0.038749  0.110637  0.004287      5.676655   \n",
       "2     GC_Transcrip        0.051971 -0.076383  0.003970      5.256426   \n",
       "3  Intron_position        0.036249  0.029504  0.001069      1.416120   \n",
       "\n",
       "   Standard Errors   t values          pVal  \n",
       "0         0.010416  28.391718  0.000000e+00  \n",
       "1         0.009742  11.357267  0.000000e+00  \n",
       "2         0.009970  -7.660977  1.998401e-14  \n",
       "3         0.009217   3.200912  1.373456e-03  "
      ]
     },
     "execution_count": 32,
     "metadata": {},
     "output_type": "execute_result"
    }
   ],
   "source": [
    "Mult_lin_NMD=fit_data_no_sel(Introns_info,'Splice_eff_NMD',par)\n",
    "data=calculate_model_info(Mult_lin_NMD,corr,'Splice_eff_NMD')\n",
    "data"
   ]
  },
  {
   "cell_type": "code",
   "execution_count": 33,
   "metadata": {},
   "outputs": [
    {
     "data": {
      "text/html": [
       "<div>\n",
       "<style scoped>\n",
       "    .dataframe tbody tr th:only-of-type {\n",
       "        vertical-align: middle;\n",
       "    }\n",
       "\n",
       "    .dataframe tbody tr th {\n",
       "        vertical-align: top;\n",
       "    }\n",
       "\n",
       "    .dataframe thead th {\n",
       "        text-align: right;\n",
       "    }\n",
       "</style>\n",
       "<table border=\"1\" class=\"dataframe\">\n",
       "  <thead>\n",
       "    <tr style=\"text-align: right;\">\n",
       "      <th></th>\n",
       "      <th>Real_NMD</th>\n",
       "      <th>Model_NMD</th>\n",
       "    </tr>\n",
       "  </thead>\n",
       "  <tbody>\n",
       "    <tr>\n",
       "      <td>Real_NMD</td>\n",
       "      <td>1.000000</td>\n",
       "      <td>0.295751</td>\n",
       "    </tr>\n",
       "    <tr>\n",
       "      <td>Model_NMD</td>\n",
       "      <td>0.295751</td>\n",
       "      <td>1.000000</td>\n",
       "    </tr>\n",
       "  </tbody>\n",
       "</table>\n",
       "</div>"
      ],
      "text/plain": [
       "           Real_NMD  Model_NMD\n",
       "Real_NMD   1.000000   0.295751\n",
       "Model_NMD  0.295751   1.000000"
      ]
     },
     "execution_count": 33,
     "metadata": {},
     "output_type": "execute_result"
    }
   ],
   "source": [
    "pd.DataFrame({\n",
    "'Real_NMD':Mult_lin_NMD['y_test'],\n",
    "'Model_NMD':Mult_lin_NMD['Model'].predict(Mult_lin_NMD['X_test'])\n",
    "}).corr()"
   ]
  },
  {
   "cell_type": "code",
   "execution_count": 34,
   "metadata": {},
   "outputs": [
    {
     "data": {
      "text/plain": [
       "0.08592183115286434"
      ]
     },
     "execution_count": 34,
     "metadata": {},
     "output_type": "execute_result"
    }
   ],
   "source": [
    "Mult_lin_NMD['Model'].score(Mult_lin_NMD['X_test'],Mult_lin_NMD['y_test'])"
   ]
  },
  {
   "cell_type": "code",
   "execution_count": 35,
   "metadata": {},
   "outputs": [
    {
     "data": {
      "image/png": "[encoded data removed]",
      "text/plain": [
       "<Figure size 432x288 with 1 Axes>"
      ]
     },
     "metadata": {
      "needs_background": "light"
     },
     "output_type": "display_data"
    }
   ],
   "source": [
    "data.set_index(['index']).sort_values(['Contribution']).Contribution.plot(kind='barh',color='red')\n",
    "plt.savefig('Model_contribution_NMD_Invisible.pdf',  format='pdf')"
   ]
  },
  {
   "cell_type": "code",
   "execution_count": null,
   "metadata": {},
   "outputs": [],
   "source": []
  }
 ],
 "metadata": {
  "kernelspec": {
   "display_name": "Python 3",
   "language": "python",
   "name": "python3"
  },
  "language_info": {
   "codemirror_mode": {
    "name": "ipython",
    "version": 3
   },
   "file_extension": ".py",
   "mimetype": "text/x-python",
   "name": "python",
   "nbconvert_exporter": "python",
   "pygments_lexer": "ipython3",
   "version": "3.7.4"
  }
 },
 "nbformat": 4,
 "nbformat_minor": 2
}
