{
 "cells": [
  {
   "cell_type": "code",
   "execution_count": 1,
   "metadata": {},
   "outputs": [],
   "source": [
    "import pandas as pd\n",
    "import re\n",
    "import numpy as np\n",
    "import matplotlib.pyplot as plt\n",
    "from sklearn.linear_model import LinearRegression\n",
    "import seaborn as sns\n",
    "from sklearn.model_selection import train_test_split\n",
    "import statsmodels.api as sm\n",
    "from statsmodels.stats.outliers_influence import variance_inflation_factor\n",
    "from scipy import stats\n",
    "import matplotlib as mpl\n",
    "import itertools\n",
    "import RNA"
   ]
  },
  {
   "cell_type": "code",
   "execution_count": 2,
   "metadata": {},
   "outputs": [],
   "source": [
    "#load introns and divide by sense\n",
    "\n",
    "Introns=pd.read_csv('/Volumes/Storage3/Paramecium.FromChunlong/Data/NMD/20140122.Intron.Count.WTandNMD.Mac51.Validated.tab',sep='\\t')\n",
    "\n",
    "Introns=Introns.query('(Scaffold < 167 or Scaffold==556 ) and WT_Spl > WT_Ret+WT_AS')\n",
    "#rename gene old gene ID\n",
    "Introns['old_Gene_ID']=Introns['Gene_ID']\n",
    "del Introns['Gene_ID']\n",
    "#delete old annotation intron position\n",
    "del Introns['Intron_position']\n",
    "Introns_neg=Introns.query(\"Sense==-1\")\n",
    "Introns_pos=Introns.query(\"Sense==1\")"
   ]
  },
  {
   "cell_type": "code",
   "execution_count": 3,
   "metadata": {},
   "outputs": [],
   "source": [
    "# load new exons annotation and divide by sense\n",
    "exons=pd.read_csv('/Users/sgnan/Desktop/Projects/paramecium/Genes/ptetraurelia_mac_51_annotation_v2.0.gff3',sep='\\t',skiprows=2,names=['Scaffold','EuGene','feature','Exon_start_Mac51','Exon_end_Mac51','dot','strand','value','Info']).query('feature==\"exon\"')\n",
    "\n",
    "ID_gene=re.compile('PTET.51.1.T[0-9]{7}')\n",
    "\n",
    "exons=exons.assign(\n",
    "    Scaffold=exons.Scaffold.apply(lambda x: x.split('_')[1]).astype(int),\n",
    "    Gene_ID=exons.Info.apply(lambda x:  ID_gene.findall(x)[0]),\n",
    "    Sense=exons.strand.apply(lambda x: -1 if x =='-' else 1)\n",
    "\n",
    ").query('Scaffold < 167  or Scaffold==556').filter(['Scaffold','Exon_start_Mac51','Exon_end_Mac51','Sense','Gene_ID'])\n",
    "\n",
    "Exons_neg=exons.query(\"Sense==-1\").filter(['Scaffold','Exon_start_Mac51','Exon_end_Mac51','Gene_ID','Sense'])\n",
    "Exons_pos=exons.query(\"Sense==1\").filter(['Scaffold','Exon_start_Mac51','Exon_end_Mac51','Gene_ID','Sense'])\n"
   ]
  },
  {
   "cell_type": "code",
   "execution_count": 4,
   "metadata": {},
   "outputs": [],
   "source": [
    "#id position exon\n",
    "Exons_pos=Exons_pos.sort_values('Exon_start_Mac51')\n",
    "Exons_pos['position']=Exons_pos.groupby('Gene_ID').cumcount()+1\n",
    "\n",
    "Exons_neg=Exons_neg.sort_values('Exon_start_Mac51',ascending=False)\n",
    "Exons_neg['position']=Exons_neg.groupby('Gene_ID').cumcount()+1\n"
   ]
  },
  {
   "cell_type": "code",
   "execution_count": 5,
   "metadata": {},
   "outputs": [],
   "source": [
    "# attach preovious and following exon to each intron\n",
    "Introns_neg=Introns_neg.merge(Exons_neg.loc[:, Exons_neg.columns != 'position'].assign(Intron_start_Mac51=Exons_neg.Exon_end_Mac51+1), how='inner',on=['Scaffold','Intron_start_Mac51','Sense']).rename(columns={\"Exon_start_Mac51\":\"nextExon_start_Mac51\",\n",
    "                                                                                      \"Exon_end_Mac51\":\"nextExon_end_Mac51\"\n",
    "                                                                                     }).merge(Exons_neg.assign(Intron_stop_Mac51=Exons_neg.Exon_start_Mac51-1), how='inner',on=['Scaffold','Gene_ID','Intron_stop_Mac51','Sense']).rename(columns={\"Exon_start_Mac51\":\"prevExon_start_Mac51\",\n",
    "                                                                                      \"Exon_end_Mac51\":\"prevExon_end_Mac51\",'position':'Intron_position'\n",
    "                                                                                     })\n",
    "\n",
    "\n",
    "Introns_pos=Introns_pos.merge(Exons_pos.loc[:, Exons_pos.columns != 'position'].assign(Intron_stop_Mac51=Exons_pos.Exon_start_Mac51-1), how='inner',on=['Scaffold','Intron_stop_Mac51','Sense']).rename(columns={\"Exon_start_Mac51\":\"nextExon_start_Mac51\",\n",
    "                                                                                      \"Exon_end_Mac51\":\"nextExon_end_Mac51\"\n",
    "                                                                                     }\n",
    ").merge(Exons_pos.assign(Intron_start_Mac51=Exons_pos.Exon_end_Mac51+1), how='inner',on=['Scaffold','Gene_ID','Intron_start_Mac51','Sense']).rename(columns={\"Exon_start_Mac51\":\"prevExon_start_Mac51\",\n",
    "                                                                                      \"Exon_end_Mac51\":\"prevExon_end_Mac51\",'position':'Intron_position'\n",
    "                                                                                     })\n",
    "\n"
   ]
  },
  {
   "cell_type": "code",
   "execution_count": 6,
   "metadata": {},
   "outputs": [],
   "source": [
    "# concatenate introns\n",
    "Introns_info=pd.concat([Introns_neg,Introns_pos],axis=0)"
   ]
  },
  {
   "cell_type": "code",
   "execution_count": 7,
   "metadata": {},
   "outputs": [],
   "source": [
    "#convert donors/acceptor into numerical\n",
    "Introns_info=Introns_info.assign(\n",
    "Donor=Introns_info.Strong_donor.apply(lambda x: 1 if x=='yes' else 0),\n",
    "Acceptor=Introns_info.Strong_acceptor.apply(lambda x: 1 if x=='yes' else 0))"
   ]
  },
  {
   "cell_type": "code",
   "execution_count": 8,
   "metadata": {},
   "outputs": [
    {
     "data": {
      "text/plain": [
       "98.73982709582945"
      ]
     },
     "execution_count": 8,
     "metadata": {},
     "output_type": "execute_result"
    }
   ],
   "source": [
    "100*(Introns_info.shape[0])/Introns.shape[0]"
   ]
  },
  {
   "cell_type": "code",
   "execution_count": 9,
   "metadata": {},
   "outputs": [],
   "source": [
    "# tanscrip info\n",
    "Transcript=exons.groupby(['Gene_ID']).agg({'Exon_start_Mac51':'min','Exon_end_Mac51':'max','Sense':'count'})\n",
    "Transcript=Transcript.reset_index().rename(columns={'Exon_start_Mac51':'Transcript_start_Mac51','Exon_end_Mac51':'Transcript_end_Mac51','Sense':'Count'})\n",
    "Transcript=Transcript.assign(\n",
    "Count=Transcript.Count-1,\n",
    "Transcript_size=Transcript.Transcript_end_Mac51.values-Transcript.Transcript_start_Mac51.values\n",
    ")"
   ]
  },
  {
   "cell_type": "code",
   "execution_count": 10,
   "metadata": {},
   "outputs": [],
   "source": [
    "Introns_info=Introns_info.merge(Transcript)"
   ]
  },
  {
   "cell_type": "code",
   "execution_count": 11,
   "metadata": {},
   "outputs": [],
   "source": [
    "#load peaks and add center\n",
    "Peaks=pd.read_csv('/Users/sgnan/Desktop/Projects/paramecium/common_Nucleosome_peaks.bed',sep='\\t',names=['Scaffold','start','end'])\n",
    "Peaks['center']=(Peaks.start.values+Peaks.end.values)/2\n",
    "#prepare genes to calculate distance form center\n",
    "Introns_info=Introns_info.assign(\n",
    "    center=(Introns_info.Intron_start_Mac51.values+Introns_info.Intron_stop_Mac51.values)/2,\n",
    "    width=1+Introns_info.Intron_stop_Mac51.values-Introns_info.Intron_start_Mac51.values,\n",
    "    distance_center=np.nan,\n",
    "    density=np.nan)"
   ]
  },
  {
   "cell_type": "code",
   "execution_count": 12,
   "metadata": {},
   "outputs": [],
   "source": [
    "#calculate distance from the center of the closest nucleosome\n",
    "Scaffold_list2=np.unique(Peaks.Scaffold.values)\n",
    "for scaffold in Scaffold_list2:\n",
    "    Introns_info[Introns_info.Scaffold==scaffold]=Introns_info[Introns_info.Scaffold==scaffold].assign(\n",
    "        distance_center=np.asarray(np.min(abs(np.matrix(Introns_info.query('Scaffold=='+str(scaffold)).center.values)-np.matrix(Peaks.query('Scaffold=='+str(scaffold)).center.values).T),axis=0))[0],\n",
    "        density=np.array(np.abs(np.diff(np.sort(abs(np.matrix(Introns_info.query('Scaffold=='+str(scaffold)).center.values)-np.matrix(Peaks.query('Scaffold=='+str(scaffold)).center.values).T),axis=0)[0:2,:],axis=0)))[0]\n",
    "    )\n"
   ]
  },
  {
   "cell_type": "code",
   "execution_count": 13,
   "metadata": {},
   "outputs": [],
   "source": [
    "# drop missing values\n",
    "Introns_info=Introns_info.dropna()\n",
    "# select features\n",
    "Introns_info=Introns_info[['Sense','Strong_donor','Strong_acceptor','Gene_ID','Scaffold','Intron_start_Mac51','Intron_stop_Mac51','WT_Spl','WT_Ret','WT_AS','NMD_Spl', 'NMD_Ret', 'NMD_AS','RPKM_WT','distance_center','nextExon_end_Mac51','nextExon_start_Mac51','prevExon_end_Mac51','prevExon_start_Mac51','Intron_position','Transcript_size','Transcript_start_Mac51','Transcript_end_Mac51','density','Donor','Acceptor','PTC_inducing','Count','old_Gene_ID','X3n_class']].reset_index(drop=True)\n",
    "# convert features into integers\n",
    "Introns_info[['nextExon_end_Mac51','nextExon_start_Mac51','prevExon_end_Mac51','prevExon_start_Mac51','Transcript_start_Mac51','Transcript_end_Mac51','Donor','Acceptor','Count']]=Introns_info[['nextExon_end_Mac51','nextExon_start_Mac51','prevExon_end_Mac51','prevExon_start_Mac51','Transcript_start_Mac51','Transcript_end_Mac51','Donor','Acceptor','Count']].astype(int)\n"
   ]
  },
  {
   "cell_type": "code",
   "execution_count": 14,
   "metadata": {},
   "outputs": [],
   "source": [
    "# load genome sequece\n",
    "fasta_dir='/Volumes/Storage3/Paramecium.FromChunlong/Data/Genome/mac_51/Scaffold/'\n",
    "sequences=dict()\n",
    "fasta_files=['20120207.scaffold51_'+str(i)+'.fa' for i in list(range(1,167))+[556]]\n",
    "for i in list(range(1,167))+[556]:\n",
    "    f = open(fasta_dir+'20120207.scaffold51_'+str(i)+'.fa','r')\n",
    "    lines=f.readlines()[1:]\n",
    "    f.close()\n",
    "    sequences[i]=''.join([l.strip('\\n') for l in lines])"
   ]
  },
  {
   "cell_type": "code",
   "execution_count": 15,
   "metadata": {},
   "outputs": [],
   "source": [
    "# calculate GC content of the intron of interest\n",
    "def Base_coup_content(sequences,Introns_info,i,what=['intron','prev_exon','next_exon','transcriptional_unit']):\n",
    "    \n",
    "    if what == 'intron':\n",
    "        intron=sequences[Introns_info.Scaffold.iloc[i]][(Introns_info.Intron_start_Mac51.iloc[i]+1):Introns_info.Intron_stop_Mac51.iloc[i]-2]\n",
    "    elif what == 'prev_exon':\n",
    "        intron=sequences[Introns_info.Scaffold.iloc[i]][(Introns_info.prevExon_start_Mac51.iloc[i]-1):Introns_info.prevExon_end_Mac51.iloc[i]]\n",
    "    elif what == 'next_exon':\n",
    "        intron=sequences[Introns_info.Scaffold.iloc[i]][(Introns_info.nextExon_start_Mac51.iloc[i]-1):Introns_info.nextExon_end_Mac51.iloc[i]]\n",
    "    elif what == 'transcriptional_unit':\n",
    "        intron=sequences[Introns_info.Scaffold.iloc[i]][(Introns_info.Transcript_start_Mac51.iloc[i]-1):Introns_info.Transcript_end_Mac51.iloc[i]]\n",
    "\n",
    "        \n",
    "    def complementary(Sequence,sense):\n",
    "        if sense == -1:\n",
    "            Complementary={'A':'T','T':'A','C':'G','G':'C','N':'N'}\n",
    "            s=[Complementary[s] for s in Sequence]\n",
    "            s=''.join(s)\n",
    "            return s\n",
    "        else:\n",
    "            return Sequence\n",
    "    \n",
    "    intron=complementary(intron,Introns_info.Sense.iloc[i])\n",
    "    \n",
    "    A=100*(intron.count('A'))/len(intron)\n",
    "    T=100*(intron.count('T'))/len(intron)\n",
    "    G=100*(intron.count('G'))/len(intron)\n",
    "    C=100*(intron.count('C'))/len(intron)\n",
    "    GC=100*(intron.count('C')+intron.count('G'))/len(intron)\n",
    "    TC=100*(intron.count('C')+intron.count('T'))/len(intron)\n",
    "    TG=100*(intron.count('T')+intron.count('G'))/len(intron)\n",
    "    AT=100*(intron.count('A')+intron.count('T'))/len(intron)\n",
    "    AC=100*(intron.count('C')+intron.count('A'))/len(intron)\n",
    "    AG=100*(intron.count('A')+intron.count('G'))/len(intron)\n",
    "    return (A,T,G,C,GC,TC,TG,AT,AC,AG)\n",
    "\n",
    "\n",
    "\n",
    "Introns_info[['A','Ts','G','C','GC','TC','TG','AT','AC','AG']]=pd.DataFrame([Base_coup_content(sequences,Introns_info,i,'intron') for i in range(len(Introns_info.index))])\n",
    "Introns_info[['A_nextExon','T_nextExon','G_nextExon','C_nextExon','GC_nextExon','TC_nextExon','TG_nextExon','AT_nextExon','AC_nextExon','AG_nextExon']]=pd.DataFrame([Base_coup_content(sequences,Introns_info,i,'next_exon') for i in range(len(Introns_info.index))])\n",
    "Introns_info[['A_prevExon','T_prevExon','G_prevExon','C_prevExon','GC_prevExon','TC_prevExon','TG_prevExon','AT_prevExon','AC_prevExon','AG_prevExon']]=pd.DataFrame([Base_coup_content(sequences,Introns_info,i,'prev_exon') for i in range(len(Introns_info.index))])\n",
    "Introns_info[['A_Transcrip','T_Transcrip','G_Transcrip','C_Transcrip','GC_Transcrip','TC_Transcrip','TG_Transcrip','AT_Transcrip','AC_Transcrip','AG_Transcrip']]=pd.DataFrame([Base_coup_content(sequences,Introns_info,i,'transcriptional_unit') for i in range(len(Introns_info.index))])\n"
   ]
  },
  {
   "cell_type": "code",
   "execution_count": 16,
   "metadata": {},
   "outputs": [],
   "source": [
    "Introns_info=Introns_info.assign(DeltaGC=Introns_info.GC-(Introns_info.GC_nextExon+Introns_info.GC_prevExon)/2)"
   ]
  },
  {
   "cell_type": "code",
   "execution_count": 17,
   "metadata": {},
   "outputs": [],
   "source": [
    "# calculate sizes of enxons\n",
    "Introns_info['nextExon_Size']=1+Introns_info.nextExon_end_Mac51-Introns_info.nextExon_start_Mac51\n",
    "Introns_info['prevExon_Size']=1+Introns_info.prevExon_end_Mac51-Introns_info.prevExon_start_Mac51\n"
   ]
  },
  {
   "cell_type": "code",
   "execution_count": 18,
   "metadata": {},
   "outputs": [],
   "source": [
    "# free energy secondary structure\n",
    "def DeltaG(sequences,Introns_info,i,size=50):\n",
    "    \n",
    "    def transcribe(Sequence,sense):\n",
    "        if sense==1:\n",
    "            s=str.replace(Sequence,'T','U')\n",
    "        elif sense == -1:\n",
    "            Complementary={'A':'U','T':'A','C':'G','G':'C','N':'N'}\n",
    "            s=[Complementary[s] for s in Sequence]\n",
    "            s.reverse()\n",
    "            s=''.join(s)\n",
    "        return s\n",
    "    \n",
    "    seq_intron=sequences[Introns_info.Scaffold.iloc[i]][(Introns_info.Intron_start_Mac51.iloc[i]-1-size):Introns_info.Intron_stop_Mac51.iloc[i]+size]\n",
    "    seq_intron=transcribe(seq_intron,Introns_info.Sense.iloc[i])\n",
    "\n",
    "\n",
    "        \n",
    "    Before=RNA.fold(seq_intron[:size])[1]\n",
    "    With=RNA.fold(seq_intron[:-size])[1]\n",
    "    All=RNA.fold(seq_intron)[1]\n",
    "    return (Before,With,All)\n",
    "\n",
    "Introns_info[['DeltaG_50b','DeltaG_50b_int','DeltaG_50b_int_50a']]=pd.DataFrame([DeltaG(sequences,Introns_info,i) for i in range(len(Introns_info.index))])"
   ]
  },
  {
   "cell_type": "code",
   "execution_count": 19,
   "metadata": {},
   "outputs": [],
   "source": [
    "#load nucleosome scores\n",
    "data={\n",
    "'D1':np.load('/Users/sgnan/Desktop/Projects/paramecium/tracks/D1_nucleosome_score.npy',allow_pickle='TRUE').item(),\n",
    "'D2': np.load('/Users/sgnan/Desktop/Projects/paramecium/tracks/D2_nucleosome_score.npy',allow_pickle='TRUE').item(),\n",
    "'S41': np.load('/Users/sgnan/Desktop/Projects/paramecium/tracks/S41_nucleosome_score.npy',allow_pickle='TRUE').item(),\n",
    "'S32new': np.load('/Users/sgnan/Desktop/Projects/paramecium/tracks/S32new_nucleosome_score.npy',allow_pickle='TRUE').item()\n",
    "}"
   ]
  },
  {
   "cell_type": "code",
   "execution_count": 20,
   "metadata": {},
   "outputs": [],
   "source": [
    "# Average and correct normalise control\n",
    "data['D']={scaffold:0.01+(data['D1'][scaffold]+data['D2'][scaffold])/2 for scaffold in data['D1'].keys()}\n",
    "data['S']={scaffold:0.01+(data['S41'][scaffold]+data['S32new'][scaffold])/2 for scaffold in data['S32new'].keys()}\n",
    "\n",
    "data['Norm']={scaffold:(data['S'][scaffold]/data['D'][scaffold]) for scaffold in data['S'].keys()}\n",
    "# set nan and Inf to zero\n",
    "for scaffold in data['Norm'].keys():\n",
    "    data['Norm'][scaffold][np.isfinite(data['Norm'][scaffold])==False]=0"
   ]
  },
  {
   "cell_type": "code",
   "execution_count": 21,
   "metadata": {},
   "outputs": [],
   "source": [
    "# calculate median nucleosome score over introns\n",
    "def MNasesignal(sample_Track,Introns_info,i):\n",
    "    intron=np.median(sample_Track[Introns_info.Scaffold.iloc[i]][(Introns_info.Intron_start_Mac51.iloc[i]):Introns_info.Intron_stop_Mac51.iloc[i]+1])\n",
    "    return intron\n",
    "# calculate median nucleosome score over following exon\n",
    "def MNasesignal_next(sample_Track,Introns_info,i):\n",
    "    intron=np.median(sample_Track[Introns_info.Scaffold.iloc[i]][(Introns_info.nextExon_start_Mac51.iloc[i]):Introns_info.nextExon_end_Mac51.iloc[i]+1])\n",
    "    return intron\n",
    "# calculate median nucleosome score over previous exon\n",
    "def MNasesignal_prev(sample_Track,Introns_info,i):\n",
    "    intron=np.median(sample_Track[Introns_info.Scaffold.iloc[i]][(Introns_info.prevExon_start_Mac51.iloc[i]):Introns_info.prevExon_end_Mac51.iloc[i]+1])\n",
    "    return intron\n",
    "\n",
    "Introns_info=Introns_info.assign(\n",
    "MNase=[MNasesignal(data['Norm'],Introns_info,i) for i in range(len(Introns_info.index))],\n",
    "MNase_nextExon=[MNasesignal_next(data['Norm'],Introns_info,i) for i in range(len(Introns_info.index))],\n",
    "MNase_prevExon=[MNasesignal_prev(data['Norm'],Introns_info,i) for i in range(len(Introns_info.index))]\n",
    ")"
   ]
  },
  {
   "cell_type": "code",
   "execution_count": 22,
   "metadata": {},
   "outputs": [],
   "source": [
    "#calculate splicing efficiency and length of introns\n",
    "Introns_info=Introns_info.assign(\n",
    "Splice_eff_WT= (Introns_info.WT_Spl)/(Introns_info.WT_Spl+Introns_info.WT_Ret+Introns_info.WT_AS),\n",
    "Splice_eff_NMD= (Introns_info.NMD_Spl)/(Introns_info.NMD_Spl+Introns_info.NMD_Ret+Introns_info.NMD_AS),\n",
    "len_intron= 1+Introns_info.Intron_stop_Mac51-Introns_info.Intron_start_Mac51\n",
    ").dropna()\n",
    "\n"
   ]
  },
  {
   "cell_type": "code",
   "execution_count": 23,
   "metadata": {},
   "outputs": [],
   "source": [
    "#add PTC absolute position from TSS and TTS\n",
    "Introns_info['distance_from_TSS']=(np.abs(Introns_info.apply(lambda x: x['Transcript_start_Mac51'] if x['Sense']==1 else x['Transcript_end_Mac51'],1).values-(Introns_info.Intron_start_Mac51.values+Introns_info.Intron_stop_Mac51.values)/2))\n",
    "Introns_info['distance_from_TTS']=(np.abs(Introns_info.apply(lambda x: x['Transcript_start_Mac51'] if x['Sense']==-1 else x['Transcript_end_Mac51'],1).values-(Introns_info.Intron_start_Mac51.values+Introns_info.Intron_stop_Mac51.values)/2))\n"
   ]
  },
  {
   "cell_type": "code",
   "execution_count": 24,
   "metadata": {},
   "outputs": [],
   "source": [
    "# save to file \n",
    "Introns_info.to_csv('Intron_infos.tsv',sep='\\t',index=False)"
   ]
  },
  {
   "cell_type": "code",
   "execution_count": null,
   "metadata": {},
   "outputs": [],
   "source": []
  }
 ],
 "metadata": {
  "kernelspec": {
   "display_name": "Python 3",
   "language": "python",
   "name": "python3"
  },
  "language_info": {
   "codemirror_mode": {
    "name": "ipython",
    "version": 3
   },
   "file_extension": ".py",
   "mimetype": "text/x-python",
   "name": "python",
   "nbconvert_exporter": "python",
   "pygments_lexer": "ipython3",
   "version": "3.7.4"
  }
 },
 "nbformat": 4,
 "nbformat_minor": 2
}
