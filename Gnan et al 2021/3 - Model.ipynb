{
 "cells": [
  {
   "cell_type": "code",
   "execution_count": 1,
   "metadata": {},
   "outputs": [],
   "source": [
    "import pandas as pd\n",
    "import numpy as np\n",
    "import matplotlib.pyplot as plt\n",
    "from sklearn.linear_model import LinearRegression\n",
    "import seaborn as sns\n",
    "from sklearn.model_selection import train_test_split\n",
    "import statsmodels.api as sm\n",
    "from scipy import stats\n",
    "import matplotlib as mpl\n",
    "import itertools"
   ]
  },
  {
   "cell_type": "code",
   "execution_count": 2,
   "metadata": {},
   "outputs": [],
   "source": [
    "#load introns and divide by sense\n",
    "\n",
    "Introns=pd.read_csv('/Volumes/Storage3/Paramecium.FromChunlong/Data/NMD/20140122.Intron.Count.WTandNMD.Mac51.Validated.tab',sep='\\t')\n",
    "\n",
    "Introns=Introns.query('(Scaffold < 167 or Scaffold==556 ) and WT_Spl > WT_Ret+WT_AS')\n",
    "del Introns['Gene_ID']\n",
    "Introns_neg=Introns.query(\"Sense==-1\")\n",
    "Introns_pos=Introns.query(\"Sense==1\")"
   ]
  },
  {
   "cell_type": "code",
   "execution_count": 3,
   "metadata": {},
   "outputs": [],
   "source": [
    "# load new exons annotation and divide by sense\n",
    "exons=pd.read_csv('/Users/sgnan/Desktop/paramecium/Genes/ptetraurelia_mac_51_annotation_v2.0.gff3',sep='\\t',skiprows=2,names=['Scaffold','EuGene','feature','Exon_start_Mac51','Exon_end_Mac51','dot','strand','value','Info']).query('feature==\"exon\"')\n",
    "exons=exons.assign(\n",
    "    Scaffold=exons.Scaffold.apply(lambda x: x.split('_')[1]).astype(int),\n",
    "    Gene_ID=exons.Info.apply(lambda x: x.split('ID=')[1]).apply(lambda x: x.split(':')[0]),\n",
    "    Sense=exons.strand.apply(lambda x: -1 if x =='-' else 1)\n",
    "\n",
    ").query('Scaffold < 167  or Scaffold==556').filter(['Scaffold','Exon_start_Mac51','Exon_end_Mac51','Sense','Gene_ID'])\n",
    "\n",
    "Exons_neg=exons.query(\"Sense==-1\").filter(['Scaffold','Exon_start_Mac51','Exon_end_Mac51','Gene_ID','Sense'])\n",
    "Exons_pos=exons.query(\"Sense==1\").filter(['Scaffold','Exon_start_Mac51','Exon_end_Mac51','Gene_ID','Sense'])"
   ]
  },
  {
   "cell_type": "code",
   "execution_count": 4,
   "metadata": {},
   "outputs": [],
   "source": [
    "# attach preovious and following exon to each intron\n",
    "Introns_neg=Introns_neg.merge(Exons_neg.assign(Intron_start_Mac51=Exons_neg.Exon_end_Mac51+1), how='inner',on=['Scaffold','Intron_start_Mac51','Sense']).rename(columns={\"Exon_start_Mac51\":\"nextExon_start_Mac51\",\n",
    "                                                                                      \"Exon_end_Mac51\":\"nextExon_end_Mac51\"\n",
    "                                                                                     }\n",
    ").merge(Exons_neg.assign(Intron_stop_Mac51=Exons_neg.Exon_start_Mac51-1), how='inner',on=['Scaffold','Gene_ID','Intron_stop_Mac51','Sense']).rename(columns={\"Exon_start_Mac51\":\"prevExon_start_Mac51\",\n",
    "                                                                                      \"Exon_end_Mac51\":\"prevExon_end_Mac51\"\n",
    "                                                                                     })\n",
    "\n",
    "Introns_pos=Introns_pos.merge(Exons_pos.assign(Intron_stop_Mac51=Exons_pos.Exon_start_Mac51-1), how='inner',on=['Scaffold','Intron_stop_Mac51','Sense']).rename(columns={\"Exon_start_Mac51\":\"nextExon_start_Mac51\",\n",
    "                                                                                      \"Exon_end_Mac51\":\"nextExon_end_Mac51\"\n",
    "                                                                                     }\n",
    ").merge(Exons_pos.assign(Intron_start_Mac51=Exons_pos.Exon_end_Mac51+1), how='inner',on=['Scaffold','Gene_ID','Intron_start_Mac51','Sense']).rename(columns={\"Exon_start_Mac51\":\"prevExon_start_Mac51\",\n",
    "                                                                                      \"Exon_end_Mac51\":\"prevExon_end_Mac51\"\n",
    "                                                                                     })\n",
    "\n"
   ]
  },
  {
   "cell_type": "code",
   "execution_count": 5,
   "metadata": {},
   "outputs": [],
   "source": [
    "# concatenate introns\n",
    "Introns_info=pd.concat([Introns_neg,Introns_pos],axis=0)"
   ]
  },
  {
   "cell_type": "code",
   "execution_count": 6,
   "metadata": {},
   "outputs": [
    {
     "data": {
      "text/plain": [
       "98.73982709582945"
      ]
     },
     "execution_count": 6,
     "metadata": {},
     "output_type": "execute_result"
    }
   ],
   "source": [
    "100*(Introns_info.shape[0])/Introns.shape[0]"
   ]
  },
  {
   "cell_type": "code",
   "execution_count": 7,
   "metadata": {},
   "outputs": [],
   "source": [
    "# tanscrip info\n",
    "Transcript=exons.groupby(['Gene_ID']).agg({'Exon_start_Mac51':'min','Exon_end_Mac51':'max'})\n",
    "Transcript=Transcript.reset_index().rename(columns={'Exon_start_Mac51':'Transcript_start_Mac51','Exon_end_Mac51':'Transcript_end_Mac51'})\n",
    "Transcript=Transcript.assign(\n",
    "Transcript_size=Transcript.Transcript_end_Mac51.values-Transcript.Transcript_start_Mac51.values\n",
    ")"
   ]
  },
  {
   "cell_type": "code",
   "execution_count": 8,
   "metadata": {},
   "outputs": [],
   "source": [
    "Introns_info=Introns_info.merge(Transcript)"
   ]
  },
  {
   "cell_type": "code",
   "execution_count": 9,
   "metadata": {},
   "outputs": [],
   "source": [
    "#load peaks and add center\n",
    "Peaks=pd.read_csv('/Users/sgnan/Desktop/paramecium/common_Nucleosome_peaks.bed',sep='\\t',names=['Scaffold','start','end'])\n",
    "Peaks['center']=(Peaks.start.values+Peaks.end.values)/2\n",
    "#prepare genes to calculate distance form center\n",
    "Introns_info=Introns_info.assign(\n",
    "    center=(Introns_info.Intron_start_Mac51.values+Introns_info.Intron_stop_Mac51.values)/2,\n",
    "    width=1+Introns_info.Intron_stop_Mac51.values-Introns_info.Intron_start_Mac51.values,\n",
    "    distance_center=np.nan,\n",
    "    density=np.nan)"
   ]
  },
  {
   "cell_type": "code",
   "execution_count": 10,
   "metadata": {},
   "outputs": [],
   "source": [
    "#calculate distance from the center of the closest nucleosome\n",
    "Scaffold_list2=np.unique(Peaks.Scaffold.values)\n",
    "for scaffold in Scaffold_list2:\n",
    "    Introns_info[Introns_info.Scaffold==scaffold]=Introns_info[Introns_info.Scaffold==scaffold].assign(\n",
    "        distance_center=np.asarray(np.min(abs(np.matrix(Introns_info.query('Scaffold=='+str(scaffold)).center.values)-np.matrix(Peaks.query('Scaffold=='+str(scaffold)).center.values).T),axis=0))[0],\n",
    "        density=np.array(np.abs(np.diff(np.sort(abs(np.matrix(Introns_info.query('Scaffold=='+str(scaffold)).center.values)-np.matrix(Peaks.query('Scaffold=='+str(scaffold)).center.values).T),axis=0)[0:2,:],axis=0)))[0]\n",
    "    )\n"
   ]
  },
  {
   "cell_type": "code",
   "execution_count": null,
   "metadata": {},
   "outputs": [],
   "source": []
  },
  {
   "cell_type": "code",
   "execution_count": 11,
   "metadata": {},
   "outputs": [],
   "source": [
    "# drop missing values\n",
    "Introns_info=Introns_info.dropna()\n",
    "# select features\n",
    "Introns_info=Introns_info[['Sense','Strong_donor','Strong_acceptor','Gene_ID','Scaffold','Intron_start_Mac51','Intron_stop_Mac51','WT_Spl','WT_Ret','WT_AS','NMD_Spl', 'NMD_Ret', 'NMD_AS','RPKM_WT','distance_center','nextExon_end_Mac51','nextExon_start_Mac51','prevExon_end_Mac51','prevExon_start_Mac51','Intron_position','Transcript_size','Transcript_start_Mac51','Transcript_end_Mac51','density']].reset_index(drop=True)\n",
    "# convert features into integers\n",
    "Introns_info[['nextExon_end_Mac51','nextExon_start_Mac51','prevExon_end_Mac51','prevExon_start_Mac51','Transcript_start_Mac51','Transcript_end_Mac51']]=Introns_info[['nextExon_end_Mac51','nextExon_start_Mac51','prevExon_end_Mac51','prevExon_start_Mac51','Transcript_start_Mac51','Transcript_end_Mac51']].astype(int)\n"
   ]
  },
  {
   "cell_type": "code",
   "execution_count": 12,
   "metadata": {},
   "outputs": [],
   "source": [
    "# load genome sequece\n",
    "fasta_dir='/Volumes/Storage3/Paramecium.FromChunlong/Data/Genome/mac_51/Scaffold/'\n",
    "sequences=dict()\n",
    "fasta_files=['20120207.scaffold51_'+str(i)+'.fa' for i in list(range(1,167))+[556]]\n",
    "for i in list(range(1,167))+[556]:\n",
    "    f = open(fasta_dir+'20120207.scaffold51_'+str(i)+'.fa','r')\n",
    "    lines=f.readlines()[1:]\n",
    "    f.close()\n",
    "    sequences[i]=''.join([l.strip('\\n') for l in lines])"
   ]
  },
  {
   "cell_type": "code",
   "execution_count": 13,
   "metadata": {},
   "outputs": [],
   "source": [
    "# calculate GC content of the intron of interest\n",
    "def GCcontent(sequences,Introns_info,i):\n",
    "    intron=sequences[Introns_info.Scaffold.iloc[i]][(Introns_info.Intron_start_Mac51.iloc[i]+1):Introns_info.Intron_stop_Mac51.iloc[i]-2]\n",
    "    GC=100*(intron.count('C')+intron.count('G'))/len(intron)\n",
    "    return GC\n",
    "\n",
    "# calculate GC content of the previous exon\n",
    "def GCcontent_prev_ex(sequences,Introns_info,i):\n",
    "    intron=sequences[Introns_info.Scaffold.iloc[i]][(Introns_info.prevExon_start_Mac51.iloc[i]-1):Introns_info.prevExon_end_Mac51.iloc[i]]\n",
    "    GC=100*(intron.count('C')+intron.count('G'))/len(intron)\n",
    "    return GC\n",
    "\n",
    "# calculate GC content of the following exon\n",
    "def GCcontent_next_ex(sequences,Introns_info,i):\n",
    "    intron=sequences[Introns_info.Scaffold.iloc[i]][(Introns_info.nextExon_start_Mac51.iloc[i]-1):Introns_info.nextExon_end_Mac51.iloc[i]]\n",
    "    GC=100*(intron.count('C')+intron.count('G'))/len(intron)\n",
    "    return GC\n",
    "\n",
    "# calculate GC content of the transcriptional unit\n",
    "def GCcontent_Transcrip(sequences,Introns_info,i):\n",
    "    intron=sequences[Introns_info.Scaffold.iloc[i]][(Introns_info.Transcript_start_Mac51.iloc[i]-1):Introns_info.Transcript_end_Mac51.iloc[i]]\n",
    "    GC=100*(intron.count('C')+intron.count('G'))/len(intron)\n",
    "    return GC\n",
    "\n",
    "Introns_info=Introns_info.assign(\n",
    "GC=[GCcontent(sequences,Introns_info,i) for i in range(len(Introns_info.index))],\n",
    "GC_nextExon=[GCcontent_next_ex(sequences,Introns_info,i) for i in range(len(Introns_info.index))],\n",
    "GC_prevExon=[GCcontent_prev_ex(sequences,Introns_info,i) for i in range(len(Introns_info.index))],\n",
    "GC_Transcrip=[GCcontent_Transcrip(sequences,Introns_info,i) for i in range(len(Introns_info.index))]\n",
    ")"
   ]
  },
  {
   "cell_type": "code",
   "execution_count": 14,
   "metadata": {},
   "outputs": [],
   "source": [
    "# calculate sizes of enxons\n",
    "Introns_info['nextExon_Size']=1+Introns_info.nextExon_end_Mac51-Introns_info.nextExon_start_Mac51\n",
    "Introns_info['prevExon_Size']=1+Introns_info.prevExon_end_Mac51-Introns_info.prevExon_start_Mac51\n"
   ]
  },
  {
   "cell_type": "code",
   "execution_count": 15,
   "metadata": {},
   "outputs": [],
   "source": [
    "#load nucleosome scores\n",
    "data={\n",
    "'D1':np.load('/Users/sgnan/Desktop/paramecium/tracks/D1_nucleosome_score.npy',allow_pickle='TRUE').item(),\n",
    "'D2': np.load('/Users/sgnan/Desktop/paramecium/tracks/D2_nucleosome_score.npy',allow_pickle='TRUE').item(),\n",
    "'S41': np.load('/Users/sgnan/Desktop/paramecium/tracks/S41_nucleosome_score.npy',allow_pickle='TRUE').item(),\n",
    "'S32new': np.load('/Users/sgnan/Desktop/paramecium/tracks/S32new_nucleosome_score.npy',allow_pickle='TRUE').item()\n",
    "}"
   ]
  },
  {
   "cell_type": "code",
   "execution_count": 16,
   "metadata": {},
   "outputs": [],
   "source": [
    "# Average and correct normalise control\n",
    "data['D']={scaffold:0.01+(data['D1'][scaffold]+data['D2'][scaffold])/2 for scaffold in data['D1'].keys()}\n",
    "data['S']={scaffold:0.01+(data['S41'][scaffold]+data['S32new'][scaffold])/2 for scaffold in data['S32new'].keys()}\n",
    "\n",
    "data['Norm']={scaffold:(data['S'][scaffold]/data['D'][scaffold]) for scaffold in data['S'].keys()}\n",
    "# set nan and Inf to zero\n",
    "for scaffold in data['Norm'].keys():\n",
    "    data['Norm'][scaffold][np.isfinite(data['Norm'][scaffold])==False]=0"
   ]
  },
  {
   "cell_type": "code",
   "execution_count": 17,
   "metadata": {},
   "outputs": [],
   "source": [
    "# calculate median nucleosome score over introns\n",
    "def MNasesignal(sample_Track,Introns_info,i):\n",
    "    intron=np.median(sample_Track[Introns_info.Scaffold.iloc[i]][(Introns_info.Intron_start_Mac51.iloc[i]):Introns_info.Intron_stop_Mac51.iloc[i]+1])\n",
    "    return intron\n",
    "# calculate median nucleosome score over following exon\n",
    "def MNasesignal_next(sample_Track,Introns_info,i):\n",
    "    intron=np.median(sample_Track[Introns_info.Scaffold.iloc[i]][(Introns_info.nextExon_start_Mac51.iloc[i]):Introns_info.nextExon_end_Mac51.iloc[i]+1])\n",
    "    return intron\n",
    "# calculate median nucleosome score over previous exon\n",
    "def MNasesignal_prev(sample_Track,Introns_info,i):\n",
    "    intron=np.median(sample_Track[Introns_info.Scaffold.iloc[i]][(Introns_info.prevExon_start_Mac51.iloc[i]):Introns_info.prevExon_end_Mac51.iloc[i]+1])\n",
    "    return intron\n",
    "\n",
    "Introns_info=Introns_info.assign(\n",
    "MNase=[MNasesignal(data['Norm'],Introns_info,i) for i in range(len(Introns_info.index))],\n",
    "MNase_nextExon=[MNasesignal_next(data['Norm'],Introns_info,i) for i in range(len(Introns_info.index))],\n",
    "MNase_prevExon=[MNasesignal_prev(data['Norm'],Introns_info,i) for i in range(len(Introns_info.index))]\n",
    ")"
   ]
  },
  {
   "cell_type": "code",
   "execution_count": 18,
   "metadata": {},
   "outputs": [],
   "source": [
    "#calculate splicing efficiency and length of introns\n",
    "Introns_info=Introns_info.assign(\n",
    "Splice_eff_WT= (Introns_info.WT_Spl)/(Introns_info.WT_Spl+Introns_info.WT_Ret+Introns_info.WT_AS),\n",
    "Splice_eff_NMD= (Introns_info.NMD_Spl)/(Introns_info.NMD_Spl+Introns_info.NMD_Ret+Introns_info.NMD_AS),\n",
    "len_intron= 1+Introns_info.Intron_stop_Mac51-Introns_info.Intron_start_Mac51\n",
    ").dropna()\n",
    "\n",
    "#calculate n of introns in a transcript\n",
    "Introns_info['Count'] =np.array(Introns_info.groupby('Gene_ID')['Gene_ID'].transform('count'))"
   ]
  },
  {
   "cell_type": "code",
   "execution_count": 19,
   "metadata": {
    "scrolled": true
   },
   "outputs": [],
   "source": [
    "# save to file \n",
    "Introns_info.to_csv('Gene_info_from_Model.tsv',sep='\\t',index=False)\n",
    "\n",
    "#function that applies a transformation and standardizes data\n",
    "def norm_data_apply_function(x,FUN='A'):\n",
    "    if FUN!='A':\n",
    "        y=FUN(x)\n",
    "    else:\n",
    "        y=x\n",
    "    y=(y-np.mean(y))/np.std(y)\n",
    "    return(y)\n",
    "\n",
    "Introns_info=Introns_info.assign(\n",
    "    \n",
    "#splicing efficiency\n",
    "Splice_eff_WT=norm_data_apply_function(Introns_info.Splice_eff_WT,np.exp), \n",
    "Splice_eff_NMD=norm_data_apply_function(Introns_info.Splice_eff_NMD,np.exp), \n",
    "\n",
    "#RPKM\n",
    "RPKM_WT=norm_data_apply_function(Introns_info.RPKM_WT,np.log10),\n",
    "\n",
    "#local density\n",
    "density=norm_data_apply_function(Introns_info.density),\n",
    "\n",
    "#distance from center \n",
    "distance_center=norm_data_apply_function(Introns_info.distance_center),\n",
    "\n",
    "    \n",
    "#GC\n",
    "GC=norm_data_apply_function(Introns_info.GC),\n",
    "GC_nextExon=norm_data_apply_function(Introns_info.GC_nextExon),\n",
    "GC_prevExon=norm_data_apply_function(Introns_info.GC_prevExon),\n",
    "GC_Transcrip=norm_data_apply_function(Introns_info.GC_Transcrip),  \n",
    "\n",
    "\n",
    "#MNase\n",
    "MNase=norm_data_apply_function(Introns_info.MNase),\n",
    "MNase_nextExon=norm_data_apply_function(Introns_info.MNase_nextExon),\n",
    "MNase_prevExon=norm_data_apply_function(Introns_info.MNase_prevExon),\n",
    "    \n",
    "#size\n",
    "Transcript_size=norm_data_apply_function(Introns_info.Transcript_size),\n",
    "len_intron=norm_data_apply_function(Introns_info.len_intron),\n",
    "nextExon_Size=norm_data_apply_function(Introns_info.nextExon_Size),\n",
    "prevExon_Size=norm_data_apply_function(Introns_info.prevExon_Size),\n",
    "    \n",
    "#introns prop\n",
    "Count=norm_data_apply_function(Introns_info.Count),\n",
    "    \n",
    "Intron_position=norm_data_apply_function(Introns_info.Intron_position)\n",
    ")\n"
   ]
  },
  {
   "cell_type": "code",
   "execution_count": 20,
   "metadata": {},
   "outputs": [],
   "source": [
    "List_par=[ 'RPKM_WT','distance_center','Intron_position','Transcript_size','GC', 'GC_nextExon','nextExon_Size',\n",
    "          'prevExon_Size','GC_prevExon', 'GC_Transcrip', 'MNase', 'MNase_nextExon', 'MNase_prevExon', 'len_intron', \n",
    "          'Count','density']\n",
    "full_list=['Splice_eff_WT','Splice_eff_NMD']+List_par"
   ]
  },
  {
   "cell_type": "code",
   "execution_count": 21,
   "metadata": {},
   "outputs": [
    {
     "data": {
      "text/html": [
       "<div>\n",
       "<style scoped>\n",
       "    .dataframe tbody tr th:only-of-type {\n",
       "        vertical-align: middle;\n",
       "    }\n",
       "\n",
       "    .dataframe tbody tr th {\n",
       "        vertical-align: top;\n",
       "    }\n",
       "\n",
       "    .dataframe thead th {\n",
       "        text-align: right;\n",
       "    }\n",
       "</style>\n",
       "<table border=\"1\" class=\"dataframe\">\n",
       "  <thead>\n",
       "    <tr style=\"text-align: right;\">\n",
       "      <th></th>\n",
       "      <th>Splice_eff_WT</th>\n",
       "      <th>Splice_eff_NMD</th>\n",
       "      <th>RPKM_WT</th>\n",
       "      <th>distance_center</th>\n",
       "      <th>Intron_position</th>\n",
       "      <th>Transcript_size</th>\n",
       "      <th>GC</th>\n",
       "      <th>GC_nextExon</th>\n",
       "      <th>nextExon_Size</th>\n",
       "      <th>prevExon_Size</th>\n",
       "      <th>GC_prevExon</th>\n",
       "      <th>GC_Transcrip</th>\n",
       "      <th>MNase</th>\n",
       "      <th>MNase_nextExon</th>\n",
       "      <th>MNase_prevExon</th>\n",
       "      <th>len_intron</th>\n",
       "      <th>Count</th>\n",
       "      <th>density</th>\n",
       "    </tr>\n",
       "  </thead>\n",
       "  <tbody>\n",
       "    <tr>\n",
       "      <td>count</td>\n",
       "      <td>6.965800e+04</td>\n",
       "      <td>6.965800e+04</td>\n",
       "      <td>6.965800e+04</td>\n",
       "      <td>6.965800e+04</td>\n",
       "      <td>6.965800e+04</td>\n",
       "      <td>6.965800e+04</td>\n",
       "      <td>6.965800e+04</td>\n",
       "      <td>6.965800e+04</td>\n",
       "      <td>6.965800e+04</td>\n",
       "      <td>6.965800e+04</td>\n",
       "      <td>6.965800e+04</td>\n",
       "      <td>6.965800e+04</td>\n",
       "      <td>6.965800e+04</td>\n",
       "      <td>6.965800e+04</td>\n",
       "      <td>6.965800e+04</td>\n",
       "      <td>6.965800e+04</td>\n",
       "      <td>6.965800e+04</td>\n",
       "      <td>6.965800e+04</td>\n",
       "    </tr>\n",
       "    <tr>\n",
       "      <td>mean</td>\n",
       "      <td>4.045094e-12</td>\n",
       "      <td>1.321336e-12</td>\n",
       "      <td>-1.121753e-15</td>\n",
       "      <td>1.319364e-17</td>\n",
       "      <td>1.403778e-15</td>\n",
       "      <td>1.392999e-17</td>\n",
       "      <td>6.236811e-13</td>\n",
       "      <td>1.870825e-13</td>\n",
       "      <td>2.100176e-17</td>\n",
       "      <td>-1.238892e-16</td>\n",
       "      <td>1.530673e-13</td>\n",
       "      <td>-1.118475e-14</td>\n",
       "      <td>-7.456272e-15</td>\n",
       "      <td>2.236809e-14</td>\n",
       "      <td>7.447726e-15</td>\n",
       "      <td>-6.079332e-15</td>\n",
       "      <td>-1.398660e-15</td>\n",
       "      <td>8.596227e-17</td>\n",
       "    </tr>\n",
       "    <tr>\n",
       "      <td>std</td>\n",
       "      <td>1.000007e+00</td>\n",
       "      <td>1.000007e+00</td>\n",
       "      <td>1.000007e+00</td>\n",
       "      <td>1.000007e+00</td>\n",
       "      <td>1.000007e+00</td>\n",
       "      <td>1.000007e+00</td>\n",
       "      <td>1.000007e+00</td>\n",
       "      <td>1.000007e+00</td>\n",
       "      <td>1.000007e+00</td>\n",
       "      <td>1.000007e+00</td>\n",
       "      <td>1.000007e+00</td>\n",
       "      <td>1.000007e+00</td>\n",
       "      <td>1.000007e+00</td>\n",
       "      <td>1.000007e+00</td>\n",
       "      <td>1.000007e+00</td>\n",
       "      <td>1.000007e+00</td>\n",
       "      <td>1.000007e+00</td>\n",
       "      <td>1.000007e+00</td>\n",
       "    </tr>\n",
       "    <tr>\n",
       "      <td>min</td>\n",
       "      <td>-5.372914e+00</td>\n",
       "      <td>-5.196656e+00</td>\n",
       "      <td>-3.621905e+00</td>\n",
       "      <td>-1.043480e+00</td>\n",
       "      <td>-8.564743e-01</td>\n",
       "      <td>-1.211025e+00</td>\n",
       "      <td>-2.050991e+00</td>\n",
       "      <td>-6.438460e+00</td>\n",
       "      <td>-7.231999e-01</td>\n",
       "      <td>-5.852835e-01</td>\n",
       "      <td>-6.663413e+00</td>\n",
       "      <td>-6.760029e+00</td>\n",
       "      <td>-1.781004e+00</td>\n",
       "      <td>-3.153967e+00</td>\n",
       "      <td>-3.028285e+00</td>\n",
       "      <td>-2.562571e+00</td>\n",
       "      <td>-1.263495e+00</td>\n",
       "      <td>-1.137742e+00</td>\n",
       "    </tr>\n",
       "    <tr>\n",
       "      <td>25%</td>\n",
       "      <td>-4.901510e-02</td>\n",
       "      <td>-5.397982e-02</td>\n",
       "      <td>-6.904943e-01</td>\n",
       "      <td>-5.166007e-01</td>\n",
       "      <td>-8.564743e-01</td>\n",
       "      <td>-5.626757e-01</td>\n",
       "      <td>-7.307346e-01</td>\n",
       "      <td>-6.795247e-01</td>\n",
       "      <td>-4.443104e-01</td>\n",
       "      <td>-3.834539e-01</td>\n",
       "      <td>-6.632979e-01</td>\n",
       "      <td>-7.129106e-01</td>\n",
       "      <td>-7.104038e-01</td>\n",
       "      <td>-6.359921e-01</td>\n",
       "      <td>-6.277586e-01</td>\n",
       "      <td>-8.607907e-01</td>\n",
       "      <td>-7.954927e-01</td>\n",
       "      <td>-7.391393e-01</td>\n",
       "    </tr>\n",
       "    <tr>\n",
       "      <td>50%</td>\n",
       "      <td>4.681651e-01</td>\n",
       "      <td>4.229886e-01</td>\n",
       "      <td>-1.319041e-01</td>\n",
       "      <td>-9.195196e-02</td>\n",
       "      <td>-3.152348e-01</td>\n",
       "      <td>-2.440664e-01</td>\n",
       "      <td>-7.060628e-02</td>\n",
       "      <td>-3.995696e-02</td>\n",
       "      <td>-2.962104e-01</td>\n",
       "      <td>-2.696402e-01</td>\n",
       "      <td>-3.109408e-02</td>\n",
       "      <td>-4.827374e-02</td>\n",
       "      <td>-2.304685e-01</td>\n",
       "      <td>-8.933112e-02</td>\n",
       "      <td>-9.229920e-02</td>\n",
       "      <td>-9.900464e-03</td>\n",
       "      <td>-3.274902e-01</td>\n",
       "      <td>-1.549808e-01</td>\n",
       "    </tr>\n",
       "    <tr>\n",
       "      <td>75%</td>\n",
       "      <td>5.428969e-01</td>\n",
       "      <td>5.760754e-01</td>\n",
       "      <td>5.783940e-01</td>\n",
       "      <td>2.068750e-01</td>\n",
       "      <td>2.260047e-01</td>\n",
       "      <td>1.907171e-01</td>\n",
       "      <td>6.995434e-01</td>\n",
       "      <td>6.354804e-01</td>\n",
       "      <td>4.230381e-02</td>\n",
       "      <td>-5.592487e-03</td>\n",
       "      <td>6.426524e-01</td>\n",
       "      <td>6.661538e-01</td>\n",
       "      <td>4.735174e-01</td>\n",
       "      <td>5.062725e-01</td>\n",
       "      <td>4.969191e-01</td>\n",
       "      <td>4.155447e-01</td>\n",
       "      <td>6.085148e-01</td>\n",
       "      <td>6.009892e-01</td>\n",
       "    </tr>\n",
       "    <tr>\n",
       "      <td>max</td>\n",
       "      <td>5.428969e-01</td>\n",
       "      <td>5.854068e-01</td>\n",
       "      <td>5.275546e+00</td>\n",
       "      <td>7.021888e+01</td>\n",
       "      <td>1.213327e+01</td>\n",
       "      <td>1.369961e+01</td>\n",
       "      <td>5.283768e+00</td>\n",
       "      <td>1.473306e+01</td>\n",
       "      <td>2.521353e+01</td>\n",
       "      <td>3.059663e+01</td>\n",
       "      <td>6.245117e+00</td>\n",
       "      <td>4.404133e+00</td>\n",
       "      <td>7.879914e+00</td>\n",
       "      <td>1.306402e+01</td>\n",
       "      <td>1.252872e+01</td>\n",
       "      <td>8.924447e+00</td>\n",
       "      <td>8.564557e+00</td>\n",
       "      <td>5.821277e+01</td>\n",
       "    </tr>\n",
       "  </tbody>\n",
       "</table>\n",
       "</div>"
      ],
      "text/plain": [
       "       Splice_eff_WT  Splice_eff_NMD       RPKM_WT  distance_center  \\\n",
       "count   6.965800e+04    6.965800e+04  6.965800e+04     6.965800e+04   \n",
       "mean    4.045094e-12    1.321336e-12 -1.121753e-15     1.319364e-17   \n",
       "std     1.000007e+00    1.000007e+00  1.000007e+00     1.000007e+00   \n",
       "min    -5.372914e+00   -5.196656e+00 -3.621905e+00    -1.043480e+00   \n",
       "25%    -4.901510e-02   -5.397982e-02 -6.904943e-01    -5.166007e-01   \n",
       "50%     4.681651e-01    4.229886e-01 -1.319041e-01    -9.195196e-02   \n",
       "75%     5.428969e-01    5.760754e-01  5.783940e-01     2.068750e-01   \n",
       "max     5.428969e-01    5.854068e-01  5.275546e+00     7.021888e+01   \n",
       "\n",
       "       Intron_position  Transcript_size            GC   GC_nextExon  \\\n",
       "count     6.965800e+04     6.965800e+04  6.965800e+04  6.965800e+04   \n",
       "mean      1.403778e-15     1.392999e-17  6.236811e-13  1.870825e-13   \n",
       "std       1.000007e+00     1.000007e+00  1.000007e+00  1.000007e+00   \n",
       "min      -8.564743e-01    -1.211025e+00 -2.050991e+00 -6.438460e+00   \n",
       "25%      -8.564743e-01    -5.626757e-01 -7.307346e-01 -6.795247e-01   \n",
       "50%      -3.152348e-01    -2.440664e-01 -7.060628e-02 -3.995696e-02   \n",
       "75%       2.260047e-01     1.907171e-01  6.995434e-01  6.354804e-01   \n",
       "max       1.213327e+01     1.369961e+01  5.283768e+00  1.473306e+01   \n",
       "\n",
       "       nextExon_Size  prevExon_Size   GC_prevExon  GC_Transcrip         MNase  \\\n",
       "count   6.965800e+04   6.965800e+04  6.965800e+04  6.965800e+04  6.965800e+04   \n",
       "mean    2.100176e-17  -1.238892e-16  1.530673e-13 -1.118475e-14 -7.456272e-15   \n",
       "std     1.000007e+00   1.000007e+00  1.000007e+00  1.000007e+00  1.000007e+00   \n",
       "min    -7.231999e-01  -5.852835e-01 -6.663413e+00 -6.760029e+00 -1.781004e+00   \n",
       "25%    -4.443104e-01  -3.834539e-01 -6.632979e-01 -7.129106e-01 -7.104038e-01   \n",
       "50%    -2.962104e-01  -2.696402e-01 -3.109408e-02 -4.827374e-02 -2.304685e-01   \n",
       "75%     4.230381e-02  -5.592487e-03  6.426524e-01  6.661538e-01  4.735174e-01   \n",
       "max     2.521353e+01   3.059663e+01  6.245117e+00  4.404133e+00  7.879914e+00   \n",
       "\n",
       "       MNase_nextExon  MNase_prevExon    len_intron         Count  \\\n",
       "count    6.965800e+04    6.965800e+04  6.965800e+04  6.965800e+04   \n",
       "mean     2.236809e-14    7.447726e-15 -6.079332e-15 -1.398660e-15   \n",
       "std      1.000007e+00    1.000007e+00  1.000007e+00  1.000007e+00   \n",
       "min     -3.153967e+00   -3.028285e+00 -2.562571e+00 -1.263495e+00   \n",
       "25%     -6.359921e-01   -6.277586e-01 -8.607907e-01 -7.954927e-01   \n",
       "50%     -8.933112e-02   -9.229920e-02 -9.900464e-03 -3.274902e-01   \n",
       "75%      5.062725e-01    4.969191e-01  4.155447e-01  6.085148e-01   \n",
       "max      1.306402e+01    1.252872e+01  8.924447e+00  8.564557e+00   \n",
       "\n",
       "            density  \n",
       "count  6.965800e+04  \n",
       "mean   8.596227e-17  \n",
       "std    1.000007e+00  \n",
       "min   -1.137742e+00  \n",
       "25%   -7.391393e-01  \n",
       "50%   -1.549808e-01  \n",
       "75%    6.009892e-01  \n",
       "max    5.821277e+01  "
      ]
     },
     "execution_count": 21,
     "metadata": {},
     "output_type": "execute_result"
    }
   ],
   "source": [
    "Introns_info[full_list].describe()"
   ]
  },
  {
   "cell_type": "code",
   "execution_count": 22,
   "metadata": {},
   "outputs": [
    {
     "data": {
      "text/plain": [
       "<matplotlib.axes._subplots.AxesSubplot at 0x7fcde97aa390>"
      ]
     },
     "execution_count": 22,
     "metadata": {},
     "output_type": "execute_result"
    },
    {
     "data": {
      "image/png": "[encoded data removed]",
      "text/plain": [
       "<Figure size 432x288 with 2 Axes>"
      ]
     },
     "metadata": {
      "needs_background": "light"
     },
     "output_type": "display_data"
    }
   ],
   "source": [
    "#check data correlation\n",
    "# calculate the correlation matrix\n",
    "corr = Introns_info[full_list].corr()\n",
    "\n",
    "# plot the correlation heatmap\n",
    "sns.heatmap(corr, xticklabels=corr.columns, yticklabels=corr.columns, cmap='RdBu')\n"
   ]
  },
  {
   "cell_type": "code",
   "execution_count": 23,
   "metadata": {},
   "outputs": [],
   "source": [
    "# linear fit and calculate parameters\n",
    "def fit_data(Introns_info,COL,list_par):\n",
    "    old=0\n",
    "    new=len(list_par)\n",
    "    while (old != new):\n",
    "        old=len(list_par)\n",
    "        mat_Introns_info=np.matrix(Introns_info[list_par])\n",
    "\n",
    "        X_train, X_test, y_train, y_test = train_test_split(mat_Introns_info,Introns_info[COL].values, test_size=0.1, random_state=0)\n",
    "        Mult_lin= LinearRegression()\n",
    "        Mult_lin.fit(X_train, y_train)\n",
    "\n",
    "        newX = pd.DataFrame({\"Constant\":np.ones(len(X_train))}).join(pd.DataFrame(X_train))\n",
    "        MSE = (sum((y_train-Mult_lin.predict(X_train))**2))/(len(newX)-len(newX.columns))\n",
    "\n",
    "        var_b = MSE*(np.linalg.inv(np.dot(newX.T,newX)).diagonal())\n",
    "        sd_b = np.sqrt(var_b)\n",
    "        ts_b =  np.append(Mult_lin.intercept_,Mult_lin.coef_)/ sd_b\n",
    "        p_values =np.array([2*(1-stats.t.cdf(np.abs(i),(newX.shape[0]-newX.shape[1]))) for i in ts_b])\n",
    "        params =np.append(Mult_lin.intercept_,Mult_lin.coef_)\n",
    "        \n",
    "        myDF3 = pd.DataFrame()\n",
    "        myDF3[\"param\"],myDF3[\"Coefficients\"],myDF3[\"Standard Errors\"],myDF3[\"t values\"],myDF3[\"pVal\"],myDF3[\"Sig\"] = [['constant']+list_par,params,sd_b,ts_b,p_values,p_values < 0.01\n",
    "    ]\n",
    "        new=sum(myDF3.Sig)\n",
    "        list_par=myDF3.query('Sig==True').param.tolist()\n",
    "\n",
    "    return {'Info':myDF3.query('Sig==True'),'Model':Mult_lin,'X_test':X_test,'y_test':y_test,'list_par':list_par}\n",
    "\n"
   ]
  },
  {
   "cell_type": "code",
   "execution_count": 24,
   "metadata": {},
   "outputs": [],
   "source": [
    "# caclulates contribution\n",
    "def calculate_model_info(Mult_lin,corr,col_corr):\n",
    "    coef_fd=pd.DataFrame({'coef':Mult_lin['Model'].coef_,'index':Mult_lin['list_par']})\n",
    "    coef_fd=corr[col_corr].reset_index().merge(coef_fd, on='index', how='inner')\n",
    "    coef_fd=coef_fd.assign(   CorCoef=abs(coef_fd[col_corr]*coef_fd.coef)\n",
    "                              )\n",
    "    TotalCorrelation=sum(coef_fd.CorCoef)\n",
    "    coef_fd=coef_fd.assign(\n",
    "            Contribution=100*(coef_fd.CorCoef)/TotalCorrelation\n",
    "        ).sort_values([\"Contribution\"],ascending=False).merge(\n",
    "            Mult_lin['Info'].rename(columns={'param':'index'}\n",
    "                     ).filter([\"index\",\"Standard Errors\",\"t values\",\"pVal\"]), on='index', how='inner')\n",
    "    return coef_fd\n"
   ]
  },
  {
   "cell_type": "code",
   "execution_count": 25,
   "metadata": {},
   "outputs": [],
   "source": [
    "#fit model using evry possible combination of parameters starting to 3 parameters to all of them\n",
    "results=dict()\n",
    "f=0\n",
    "for i in range(2,len(List_par)):\n",
    "    for List in list(itertools.combinations(List_par, i+1)):\n",
    "        try:\n",
    "            Mult_lin_NMD=fit_data(Introns_info,'Splice_eff_NMD',list(List))\n",
    "            kept=calculate_model_info(Mult_lin_NMD,corr,'Splice_eff_NMD')['index']\n",
    "            pears=pd.DataFrame({\n",
    "                'Real_NMD':Mult_lin_NMD['y_test'],\n",
    "                'Model_NMD':Mult_lin_NMD['Model'].predict(Mult_lin_NMD['X_test'])\n",
    "                }).corr().Model_NMD[0]\n",
    "            results[f]={'kept':list(kept),'corr':pears}\n",
    "            f+=1\n",
    "        except:\n",
    "            pass"
   ]
  },
  {
   "cell_type": "code",
   "execution_count": 26,
   "metadata": {},
   "outputs": [
    {
     "data": {
      "text/plain": [
       "0.347274443787411"
      ]
     },
     "execution_count": 26,
     "metadata": {},
     "output_type": "execute_result"
    }
   ],
   "source": [
    "# identify best correlation\n",
    "results_cor=np.array([results[i]['corr'] for i in results.keys()])\n",
    "results_cor.max()"
   ]
  },
  {
   "cell_type": "code",
   "execution_count": 27,
   "metadata": {},
   "outputs": [
    {
     "data": {
      "text/plain": [
       "array([50749, 58547, 58778, 58808, 58814, 58817, 58820, 62924, 62930,\n",
       "       62933, 62936, 63099, 63105, 63108, 63111, 63130, 63133, 63136,\n",
       "       63137, 63140, 63141, 64740, 64743, 64746, 64747, 64750, 64751,\n",
       "       64825, 64828, 64831, 64832, 64835, 64836, 64843, 64846, 64847,\n",
       "       64848, 65283, 65286, 65287, 65288, 65307, 65310, 65311, 65312,\n",
       "       65314, 65389, 65392])"
      ]
     },
     "execution_count": 27,
     "metadata": {},
     "output_type": "execute_result"
    }
   ],
   "source": [
    "# identify iterations with the best correlation\n",
    "W=np.where(results_cor==results_cor.max())[0]\n",
    "W"
   ]
  },
  {
   "cell_type": "code",
   "execution_count": 28,
   "metadata": {},
   "outputs": [
    {
     "data": {
      "text/plain": [
       "[]"
      ]
     },
     "execution_count": 28,
     "metadata": {},
     "output_type": "execute_result"
    }
   ],
   "source": [
    "#check that they all use the same parameters\n",
    "differences=dict()\n",
    "for i in W:\n",
    "    for h in W:\n",
    "        differences[str(i)+'vs'+str(h)]=np.concatenate([list(set(results[i]['kept'])-set(results[h]['kept'])),list(set(results[h]['kept'])-set(results[i]['kept']))])\n",
    "        \n",
    "[d for d in differences.keys() if len(differences[d])>0]   "
   ]
  },
  {
   "cell_type": "code",
   "execution_count": 29,
   "metadata": {},
   "outputs": [
    {
     "data": {
      "text/plain": [
       "['RPKM_WT',\n",
       " 'GC',\n",
       " 'Count',\n",
       " 'Intron_position',\n",
       " 'len_intron',\n",
       " 'Transcript_size',\n",
       " 'nextExon_Size',\n",
       " 'prevExon_Size',\n",
       " 'GC_Transcrip',\n",
       " 'distance_center']"
      ]
     },
     "execution_count": 29,
     "metadata": {},
     "output_type": "execute_result"
    }
   ],
   "source": [
    "# select one of the simulation with best correlation\n",
    "selected_mode=50749\n",
    "par=results[selected_mode]['kept']\n",
    "par"
   ]
  },
  {
   "cell_type": "code",
   "execution_count": 32,
   "metadata": {},
   "outputs": [],
   "source": [
    "def fit_data_no_sel(genes_info,COL,list_par):\n",
    "    mat_genes_info=np.matrix(genes_info[list_par])\n",
    "\n",
    "    X_train, X_test, y_train, y_test = train_test_split(mat_genes_info,genes_info[COL].values, test_size=0.1, random_state=0)\n",
    "    Mult_lin= LinearRegression()\n",
    "    Mult_lin.fit(X_train, y_train)\n",
    "\n",
    "    newX = pd.DataFrame({\"Constant\":np.ones(len(X_train))}).join(pd.DataFrame(X_train))\n",
    "    MSE = (sum((y_train-Mult_lin.predict(X_train))**2))/(len(newX)-len(newX.columns))\n",
    "\n",
    "    var_b = MSE*(np.linalg.inv(np.dot(newX.T,newX)).diagonal())\n",
    "    sd_b = np.sqrt(var_b)\n",
    "    ts_b =  np.append(Mult_lin.intercept_,Mult_lin.coef_)/ sd_b\n",
    "    p_values =np.array([2*(1-stats.t.cdf(np.abs(i),(newX.shape[0]-newX.shape[1]))) for i in ts_b])\n",
    "    params =np.append(Mult_lin.intercept_,Mult_lin.coef_)\n",
    "\n",
    "    myDF3 = pd.DataFrame()\n",
    "    myDF3[\"param\"],myDF3[\"Coefficients\"],myDF3[\"Standard Errors\"],myDF3[\"t values\"],myDF3[\"pVal\"],myDF3[\"Sig\"] = [['constant']+list_par,params,sd_b,ts_b,p_values,p_values < 0.01\n",
    "        ]\n",
    "\n",
    "    return {'Info':myDF3,'Model':Mult_lin,'X_test':X_test,'y_test':y_test,'list_par':list_par}\n",
    "\n"
   ]
  },
  {
   "cell_type": "code",
   "execution_count": 34,
   "metadata": {},
   "outputs": [
    {
     "data": {
      "text/html": [
       "<div>\n",
       "<style scoped>\n",
       "    .dataframe tbody tr th:only-of-type {\n",
       "        vertical-align: middle;\n",
       "    }\n",
       "\n",
       "    .dataframe tbody tr th {\n",
       "        vertical-align: top;\n",
       "    }\n",
       "\n",
       "    .dataframe thead th {\n",
       "        text-align: right;\n",
       "    }\n",
       "</style>\n",
       "<table border=\"1\" class=\"dataframe\">\n",
       "  <thead>\n",
       "    <tr style=\"text-align: right;\">\n",
       "      <th></th>\n",
       "      <th>index</th>\n",
       "      <th>Splice_eff_NMD</th>\n",
       "      <th>coef</th>\n",
       "      <th>CorCoef</th>\n",
       "      <th>Contribution</th>\n",
       "      <th>Standard Errors</th>\n",
       "      <th>t values</th>\n",
       "      <th>pVal</th>\n",
       "    </tr>\n",
       "  </thead>\n",
       "  <tbody>\n",
       "    <tr>\n",
       "      <td>0</td>\n",
       "      <td>RPKM_WT</td>\n",
       "      <td>0.253003</td>\n",
       "      <td>0.305357</td>\n",
       "      <td>0.077256</td>\n",
       "      <td>60.089096</td>\n",
       "      <td>0.004468</td>\n",
       "      <td>68.336661</td>\n",
       "      <td>0.000000e+00</td>\n",
       "    </tr>\n",
       "    <tr>\n",
       "      <td>1</td>\n",
       "      <td>GC</td>\n",
       "      <td>-0.145865</td>\n",
       "      <td>-0.158833</td>\n",
       "      <td>0.023168</td>\n",
       "      <td>18.019885</td>\n",
       "      <td>0.004049</td>\n",
       "      <td>-39.226774</td>\n",
       "      <td>0.000000e+00</td>\n",
       "    </tr>\n",
       "    <tr>\n",
       "      <td>2</td>\n",
       "      <td>Count</td>\n",
       "      <td>0.113109</td>\n",
       "      <td>0.064504</td>\n",
       "      <td>0.007296</td>\n",
       "      <td>5.674774</td>\n",
       "      <td>0.005055</td>\n",
       "      <td>12.760640</td>\n",
       "      <td>0.000000e+00</td>\n",
       "    </tr>\n",
       "    <tr>\n",
       "      <td>3</td>\n",
       "      <td>Intron_position</td>\n",
       "      <td>0.107826</td>\n",
       "      <td>0.056297</td>\n",
       "      <td>0.006070</td>\n",
       "      <td>4.721385</td>\n",
       "      <td>0.004691</td>\n",
       "      <td>12.001010</td>\n",
       "      <td>0.000000e+00</td>\n",
       "    </tr>\n",
       "    <tr>\n",
       "      <td>4</td>\n",
       "      <td>len_intron</td>\n",
       "      <td>0.093238</td>\n",
       "      <td>0.062503</td>\n",
       "      <td>0.005828</td>\n",
       "      <td>4.532691</td>\n",
       "      <td>0.003791</td>\n",
       "      <td>16.488892</td>\n",
       "      <td>0.000000e+00</td>\n",
       "    </tr>\n",
       "    <tr>\n",
       "      <td>5</td>\n",
       "      <td>Transcript_size</td>\n",
       "      <td>0.040984</td>\n",
       "      <td>0.080604</td>\n",
       "      <td>0.003303</td>\n",
       "      <td>2.569382</td>\n",
       "      <td>0.005398</td>\n",
       "      <td>14.931744</td>\n",
       "      <td>0.000000e+00</td>\n",
       "    </tr>\n",
       "    <tr>\n",
       "      <td>6</td>\n",
       "      <td>nextExon_Size</td>\n",
       "      <td>-0.057617</td>\n",
       "      <td>-0.036489</td>\n",
       "      <td>0.002102</td>\n",
       "      <td>1.635203</td>\n",
       "      <td>0.004261</td>\n",
       "      <td>-8.563032</td>\n",
       "      <td>0.000000e+00</td>\n",
       "    </tr>\n",
       "    <tr>\n",
       "      <td>7</td>\n",
       "      <td>prevExon_Size</td>\n",
       "      <td>0.047426</td>\n",
       "      <td>0.029504</td>\n",
       "      <td>0.001399</td>\n",
       "      <td>1.088316</td>\n",
       "      <td>0.004587</td>\n",
       "      <td>6.431839</td>\n",
       "      <td>1.269735e-10</td>\n",
       "    </tr>\n",
       "    <tr>\n",
       "      <td>8</td>\n",
       "      <td>GC_Transcrip</td>\n",
       "      <td>0.067519</td>\n",
       "      <td>-0.019023</td>\n",
       "      <td>0.001284</td>\n",
       "      <td>0.998975</td>\n",
       "      <td>0.004388</td>\n",
       "      <td>-4.335216</td>\n",
       "      <td>1.458435e-05</td>\n",
       "    </tr>\n",
       "    <tr>\n",
       "      <td>9</td>\n",
       "      <td>distance_center</td>\n",
       "      <td>0.045311</td>\n",
       "      <td>0.019019</td>\n",
       "      <td>0.000862</td>\n",
       "      <td>0.670292</td>\n",
       "      <td>0.003752</td>\n",
       "      <td>5.069233</td>\n",
       "      <td>4.005569e-07</td>\n",
       "    </tr>\n",
       "  </tbody>\n",
       "</table>\n",
       "</div>"
      ],
      "text/plain": [
       "             index  Splice_eff_NMD      coef   CorCoef  Contribution  \\\n",
       "0          RPKM_WT        0.253003  0.305357  0.077256     60.089096   \n",
       "1               GC       -0.145865 -0.158833  0.023168     18.019885   \n",
       "2            Count        0.113109  0.064504  0.007296      5.674774   \n",
       "3  Intron_position        0.107826  0.056297  0.006070      4.721385   \n",
       "4       len_intron        0.093238  0.062503  0.005828      4.532691   \n",
       "5  Transcript_size        0.040984  0.080604  0.003303      2.569382   \n",
       "6    nextExon_Size       -0.057617 -0.036489  0.002102      1.635203   \n",
       "7    prevExon_Size        0.047426  0.029504  0.001399      1.088316   \n",
       "8     GC_Transcrip        0.067519 -0.019023  0.001284      0.998975   \n",
       "9  distance_center        0.045311  0.019019  0.000862      0.670292   \n",
       "\n",
       "   Standard Errors   t values          pVal  \n",
       "0         0.004468  68.336661  0.000000e+00  \n",
       "1         0.004049 -39.226774  0.000000e+00  \n",
       "2         0.005055  12.760640  0.000000e+00  \n",
       "3         0.004691  12.001010  0.000000e+00  \n",
       "4         0.003791  16.488892  0.000000e+00  \n",
       "5         0.005398  14.931744  0.000000e+00  \n",
       "6         0.004261  -8.563032  0.000000e+00  \n",
       "7         0.004587   6.431839  1.269735e-10  \n",
       "8         0.004388  -4.335216  1.458435e-05  \n",
       "9         0.003752   5.069233  4.005569e-07  "
      ]
     },
     "execution_count": 34,
     "metadata": {},
     "output_type": "execute_result"
    }
   ],
   "source": [
    "Mult_lin_NMD=fit_data_no_sel(Introns_info,'Splice_eff_NMD',par)\n",
    "data=calculate_model_info(Mult_lin_NMD,corr,'Splice_eff_NMD')\n",
    "data"
   ]
  },
  {
   "cell_type": "code",
   "execution_count": 35,
   "metadata": {},
   "outputs": [
    {
     "data": {
      "text/html": [
       "<div>\n",
       "<style scoped>\n",
       "    .dataframe tbody tr th:only-of-type {\n",
       "        vertical-align: middle;\n",
       "    }\n",
       "\n",
       "    .dataframe tbody tr th {\n",
       "        vertical-align: top;\n",
       "    }\n",
       "\n",
       "    .dataframe thead th {\n",
       "        text-align: right;\n",
       "    }\n",
       "</style>\n",
       "<table border=\"1\" class=\"dataframe\">\n",
       "  <thead>\n",
       "    <tr style=\"text-align: right;\">\n",
       "      <th></th>\n",
       "      <th>Real_NMD</th>\n",
       "      <th>Model_NMD</th>\n",
       "    </tr>\n",
       "  </thead>\n",
       "  <tbody>\n",
       "    <tr>\n",
       "      <td>Real_NMD</td>\n",
       "      <td>1.000000</td>\n",
       "      <td>0.347274</td>\n",
       "    </tr>\n",
       "    <tr>\n",
       "      <td>Model_NMD</td>\n",
       "      <td>0.347274</td>\n",
       "      <td>1.000000</td>\n",
       "    </tr>\n",
       "  </tbody>\n",
       "</table>\n",
       "</div>"
      ],
      "text/plain": [
       "           Real_NMD  Model_NMD\n",
       "Real_NMD   1.000000   0.347274\n",
       "Model_NMD  0.347274   1.000000"
      ]
     },
     "execution_count": 35,
     "metadata": {},
     "output_type": "execute_result"
    }
   ],
   "source": [
    "pd.DataFrame({\n",
    "'Real_NMD':Mult_lin_NMD['y_test'],\n",
    "'Model_NMD':Mult_lin_NMD['Model'].predict(Mult_lin_NMD['X_test'])\n",
    "}).corr()"
   ]
  },
  {
   "cell_type": "code",
   "execution_count": 36,
   "metadata": {},
   "outputs": [
    {
     "data": {
      "text/plain": [
       "0.12031513269127925"
      ]
     },
     "execution_count": 36,
     "metadata": {},
     "output_type": "execute_result"
    }
   ],
   "source": [
    "Mult_lin_NMD['Model'].score(Mult_lin_NMD['X_test'],Mult_lin_NMD['y_test'])"
   ]
  },
  {
   "cell_type": "code",
   "execution_count": 37,
   "metadata": {},
   "outputs": [
    {
     "data": {
      "image/png": "[encoded data removed]",
      "text/plain": [
       "<Figure size 432x288 with 1 Axes>"
      ]
     },
     "metadata": {
      "needs_background": "light"
     },
     "output_type": "display_data"
    }
   ],
   "source": [
    "data.set_index(['index']).sort_values(['Contribution']).Contribution.plot(kind='barh',color='orange')\n",
    "plt.savefig('Model_contribution.pdf',  format='pdf')"
   ]
  },
  {
   "cell_type": "code",
   "execution_count": null,
   "metadata": {},
   "outputs": [],
   "source": []
  }
 ],
 "metadata": {
  "kernelspec": {
   "display_name": "Python 3",
   "language": "python",
   "name": "python3"
  },
  "language_info": {
   "codemirror_mode": {
    "name": "ipython",
    "version": 3
   },
   "file_extension": ".py",
   "mimetype": "text/x-python",
   "name": "python",
   "nbconvert_exporter": "python",
   "pygments_lexer": "ipython3",
   "version": "3.7.4"
  }
 },
 "nbformat": 4,
 "nbformat_minor": 2
}
